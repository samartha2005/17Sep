{
 "cells": [
  {
   "cell_type": "code",
   "execution_count": null,
   "id": "7dd860a4-67bb-4c56-a4a9-6c9ca58662b9",
   "metadata": {},
   "outputs": [],
   "source": [
    "# For Loop :-"
   ]
  },
  {
   "cell_type": "code",
   "execution_count": 1,
   "id": "7a0fdd68-5424-4686-b625-b54b20794362",
   "metadata": {},
   "outputs": [
    {
     "name": "stdout",
     "output_type": "stream",
     "text": [
      "1\n",
      "2\n",
      "3\n",
      "4\n",
      "5\n",
      "6\n",
      "7\n",
      "8\n",
      "9\n",
      "10\n"
     ]
    }
   ],
   "source": [
    "'''1.Write a Python program to print numbers from 1 to 10 using a for loop.'''\n",
    "\n",
    "# code\n",
    "for i in range(1,11):\n",
    "    print(i)"
   ]
  },
  {
   "cell_type": "code",
   "execution_count": null,
   "id": "192f28b1-3fea-4b0f-a250-59e01c25a5cc",
   "metadata": {},
   "outputs": [],
   "source": [
    "'''2.Explain the difference between a for loop and a while loop in Python.'''\n",
    "\n",
    "# Ans\n",
    "\n",
    "# for loop\n",
    "\n",
    "'''1.For loop is used to iterate over a sequence of items.\n",
    "   2.For loops are designed for iterating over a sequence of items. Eg. list, tuple, etc.\n",
    "   3.For loop require a sequence to iterate over\n",
    "   4.For loop is typically used for iterating over a fixed sequence of item\n",
    "   5.For loop is more efficient than a while loop when iterating over sequences, \n",
    "   since the number of iterations is predetermined and the loop can be optimized accordingly.'''\n",
    "\n",
    "# While loop\n",
    "\n",
    "'''1.While loop is used to repeatedly execute a block of statements while a condition is true.\n",
    "   2.While loop is used when the number of iterations is not \n",
    "   known in advance or when we want to repeat a block of code until a certain condition is met.\n",
    "   3.While the loop requires an initial condition that is tested at the beginning of the loop.\n",
    "   4.While loop is used for more complex control flow situations.\n",
    "   5.While a loop may be more efficient in certain situations where the condition being tested \n",
    "   can be evaluated quickly.'''  "
   ]
  },
  {
   "cell_type": "code",
   "execution_count": 3,
   "id": "5cc4401c-1e9d-49d6-b7f8-310ba3933586",
   "metadata": {},
   "outputs": [
    {
     "name": "stdout",
     "output_type": "stream",
     "text": [
      "5050\n"
     ]
    }
   ],
   "source": [
    "'''3.Write a Python program to calculate the sum of all numbers from 1 to 100 using a for loop.'''\n",
    "\n",
    "# code\n",
    "\n",
    "sum = 0\n",
    "for i in range(1, 101):\n",
    "    sum = sum + i\n",
    "print(sum)"
   ]
  },
  {
   "cell_type": "code",
   "execution_count": 5,
   "id": "c237d520-6b8f-4848-b25d-e0c5dc022f62",
   "metadata": {},
   "outputs": [
    {
     "name": "stdout",
     "output_type": "stream",
     "text": [
      "1\n",
      "3\n",
      "5\n",
      "7\n",
      "9\n"
     ]
    }
   ],
   "source": [
    "'''4.How do you iterate through a list using a for loop in Python'''\n",
    "\n",
    "# Ans\n",
    "'''Using a Python for loop is one of the simplest methods for \n",
    "iterating over a list or any other sequence (e.g. TUPLES, SETS, OR DICTIONARIES).\n",
    "PYTHON FOR LOOPS ARE A POWERFUL TOOL, so it is important for programmers to understand their versatility. \n",
    "We can use them to run the statements contained within the loop once for each item in a list. For example:'''\n",
    "\n",
    "\n",
    "# Python3 code to iterate over a list\n",
    "list = [1, 3, 5, 7, 9] \n",
    "# Using for loop\n",
    "for i in list:\n",
    "    print(i)"
   ]
  },
  {
   "cell_type": "code",
   "execution_count": 6,
   "id": "6693a72e-185d-4118-959c-504bc2dca816",
   "metadata": {},
   "outputs": [
    {
     "name": "stdout",
     "output_type": "stream",
     "text": [
      "The list is: [2, 1, 3, 7, 4, 85, 3]\n",
      "The product is: \n",
      "42840\n"
     ]
    }
   ],
   "source": [
    "'''5.Write a Python program to find the product of all elements in a list using a for loop.'''\n",
    "\n",
    "# code\n",
    "\n",
    "def multiply_numbers(list):\n",
    "    prod = 1\n",
    "    for i in list:\n",
    "        prod = prod*i\n",
    "    return prod\n",
    "given_list = [2,1,3,7,4,85,3]\n",
    "print('The list is:',given_list)\n",
    "print(\"The product is: \")\n",
    "print(multiply_numbers(given_list))"
   ]
  },
  {
   "cell_type": "code",
   "execution_count": 10,
   "id": "1186061e-bb54-4060-9bc7-3aaceaf2bc71",
   "metadata": {},
   "outputs": [
    {
     "name": "stdout",
     "output_type": "stream",
     "text": [
      "2 4 6 8 10 12 14 16 18 20 "
     ]
    }
   ],
   "source": [
    "'''6.Create a Python program that prints all even numbers from 1 to 20 using a for loop'''\n",
    "\n",
    "# code\n",
    "for even_numbers in range(1,21):\n",
    "     if even_numbers % 2 == 0:\n",
    "            print(even_numbers,end=' ')"
   ]
  },
  {
   "cell_type": "code",
   "execution_count": 11,
   "id": "5e850f83-46d2-45d5-8959-412482db654d",
   "metadata": {},
   "outputs": [
    {
     "name": "stdin",
     "output_type": "stream",
     "text": [
      "Enter a number:  3\n"
     ]
    },
    {
     "name": "stdout",
     "output_type": "stream",
     "text": [
      "Factorial of the given number is:  6\n"
     ]
    }
   ],
   "source": [
    "'''7.Write a Python program that calculates the factorial of a number using a for loop.'''\n",
    "\n",
    "# code\n",
    "n = int (input (\"Enter a number: \"))\n",
    "factorial = 1\n",
    "if n >= 1:\n",
    "    for i in range (1, n+1):\n",
    "        factorial=factorial *i\n",
    "print(\"Factorial of the given number is: \", factorial)"
   ]
  },
  {
   "cell_type": "code",
   "execution_count": 12,
   "id": "61b51b72-4d01-4fb5-9f50-7e1018c0b5eb",
   "metadata": {},
   "outputs": [
    {
     "name": "stdout",
     "output_type": "stream",
     "text": [
      "String is: SparkBy\n",
      "Characters of string:\n",
      "0 S\n",
      "1 p\n",
      "2 a\n",
      "3 r\n",
      "4 k\n",
      "5 B\n",
      "6 y\n"
     ]
    }
   ],
   "source": [
    "'''8.How can you iterate through the characters of a string using a for loop in Python?'''\n",
    "\n",
    "# Ans\n",
    "\n",
    "'''While iterating over the string using for loop, \n",
    "you can get the corresponding index of each character of a given string. \n",
    "You can use the Python range() function to get the range of the sequence and use \n",
    "the len() function to get the length of the Passed object. You can iterate range(0, len(str)) using for loop, \n",
    "for every iteration to get the index and corresponding character of the string.'''\n",
    "\n",
    "# code\n",
    "str = \"SparkBy\"\n",
    "print(\"String is:\", str)\n",
    "\n",
    "# Iterate over the string by index\n",
    "print(\"Characters of string:\")\n",
    "for i in range(0, len(str)):\n",
    "\tprint(i, str[i])"
   ]
  },
  {
   "cell_type": "code",
   "execution_count": 13,
   "id": "52f5a389-ba82-4551-8ff6-c0d7b3090308",
   "metadata": {},
   "outputs": [
    {
     "name": "stdout",
     "output_type": "stream",
     "text": [
      "Greatest number:  101\n"
     ]
    }
   ],
   "source": [
    "'''9.Write a Python program to find the largest number in a list using a for loop'''\n",
    "\n",
    "# code\n",
    "numbers = [1, 2, 3, 5, 9, 6, 101, 88, 66, 6, 101, 55, -1001]\n",
    "maxi = numbers[0]\n",
    "for i in numbers:\n",
    "    if i > maxi:\n",
    "        maxi = i        \n",
    "print(\"Greatest number: \", maxi)"
   ]
  },
  {
   "cell_type": "code",
   "execution_count": 14,
   "id": "6e21d76c-c1b8-4d64-9f0d-d849cb5decce",
   "metadata": {},
   "outputs": [
    {
     "name": "stdin",
     "output_type": "stream",
     "text": [
      "Enter the number of terms:  6\n"
     ]
    },
    {
     "name": "stdout",
     "output_type": "stream",
     "text": [
      "0 1 1 2 3 5 "
     ]
    }
   ],
   "source": [
    "'''10.Create a Python program that prints the Fibonacci sequence up to a specified limit using a for loop.'''\n",
    "\n",
    "\n",
    "'''Fibonacci series is a sequence of numbers where each number is the sum of the previous two consecutive numbers. \n",
    "The series begins with 0 and 1.'''\n",
    "\n",
    "# code\n",
    "n=int(input(\"Enter the number of terms: \"))\n",
    "a=0 \n",
    "b=1 \n",
    "if n<=0:\n",
    "    print(\"The Output of your input is\",a)\n",
    "else:\n",
    "    print(a,b,end=\" \")\n",
    "    for x in range(2,n):\n",
    "        c=a+b\n",
    "        print(c,end=\" \")\n",
    "        a=b\n",
    "        b=c"
   ]
  },
  {
   "cell_type": "code",
   "execution_count": 15,
   "id": "7204c796-a095-49cb-ac35-0b4df434d29d",
   "metadata": {},
   "outputs": [
    {
     "name": "stdout",
     "output_type": "stream",
     "text": [
      "No. of vowels : 3\n"
     ]
    }
   ],
   "source": [
    "'''11.Write a Python program to count the number of vowels in a given string using a for loop.'''\n",
    "\n",
    "# code\n",
    "def vowel_count(str):     \n",
    "    count = 0\n",
    "    vowel = set(\"aeiouAEIOU\")\n",
    "    for alphabet in str:\n",
    "        if alphabet in vowel:\n",
    "            count = count + 1     \n",
    "    print(\"No. of vowels :\", count)     \n",
    "str = \"Tit for Tat\"\n",
    "vowel_count(str)"
   ]
  },
  {
   "cell_type": "code",
   "execution_count": 16,
   "id": "c213d0c6-c03f-45be-9bbb-b1c98b90932f",
   "metadata": {},
   "outputs": [
    {
     "name": "stdout",
     "output_type": "stream",
     "text": [
      "1 2 3 4 5 \n",
      "2 4 6 8 10 \n",
      "3 6 9 12 15 \n",
      "4 8 12 16 20 \n",
      "5 10 15 20 25 \n"
     ]
    }
   ],
   "source": [
    "'''12.Create a Python program that generates a multiplication table for a given number using a for loop.'''\n",
    "\n",
    "# code\n",
    "for i in range(1,6):\n",
    "    for j in range(1,6):\n",
    "        print(i*j, end=' ')\n",
    "    print() "
   ]
  },
  {
   "cell_type": "code",
   "execution_count": 1,
   "id": "b7436f32-e26f-4aba-bb1e-fac48493a461",
   "metadata": {},
   "outputs": [
    {
     "name": "stdout",
     "output_type": "stream",
     "text": [
      "[15, 14, 13, 12, 11, 10]\n"
     ]
    }
   ],
   "source": [
    "'''13.Write a Python program to reverse a list using a for loop.'''\n",
    "\n",
    "# Code\n",
    "lst = [10, 11, 12, 13, 14, 15]\n",
    "l = [] \n",
    "for i in lst:\n",
    "    l.insert(0, i)\n",
    "print(l)\n"
   ]
  },
  {
   "cell_type": "code",
   "execution_count": 2,
   "id": "39c11a93-53ba-4e27-b326-7906aad33c64",
   "metadata": {},
   "outputs": [
    {
     "name": "stdout",
     "output_type": "stream",
     "text": [
      "The common elements in the two lists are: \n",
      "[2, 8, 5]\n"
     ]
    }
   ],
   "source": [
    "'''14.Write a Python program to find the common elements between two lists using a for loop.'''\n",
    "\n",
    "#code\n",
    "def common_member(a, b):\n",
    "    result = [i for i in a if i in b]\n",
    "    return result\n",
    "a = [1, 2, 8, 4, 5]\n",
    "b = [5, 6, 2, 8, 9]\n",
    "print(\"The common elements in the two lists are: \")\n",
    "print(common_member(a, b))"
   ]
  },
  {
   "cell_type": "code",
   "execution_count": 4,
   "id": "94e62d32-2296-4798-8c1c-06658b1e1bff",
   "metadata": {},
   "outputs": [
    {
     "name": "stdout",
     "output_type": "stream",
     "text": [
      "[('key1', 1), ('key2', 2), ('key3', 3)]\n",
      "<class 'list'>\n",
      "<class 'tuple'>\n"
     ]
    }
   ],
   "source": [
    "'''15.Explain how to use a for loop to iterate through the keys and values of a dictionary in Python.'''\n",
    "\n",
    "# Ans\n",
    "\n",
    "'''In Python, to iterate through a dictionary (dict) with a for loop, use the keys(), values(), and items() methods. \n",
    "You can also get a list of all the keys and values in a dictionary using those methods and list()'''\n",
    "\n",
    "# code\n",
    "d = {'key1': 1, 'key2': 2, 'key3': 3}\n",
    "print(list(d.items()))\n",
    "print(type(list(d.items())))\n",
    "print(type(list(d.items())[0]))"
   ]
  },
  {
   "cell_type": "code",
   "execution_count": 5,
   "id": "0f7bd5ad-a169-45c6-a23d-ee71901156e9",
   "metadata": {},
   "outputs": [
    {
     "name": "stdout",
     "output_type": "stream",
     "text": [
      "GCD of 50 and 100 is: 50\n"
     ]
    }
   ],
   "source": [
    "'''16.Write a Python program to find the GCD (Greatest Common Divisor) of two numbers using a for loop.'''\n",
    "\n",
    "#code\n",
    "x = 50\n",
    "y = 100\n",
    "if x > y:\n",
    "    x, y = y, x\n",
    "for i in range(1,x+1):\n",
    "    if x%i == 0 and y%i == 0:\n",
    "        gcd = i\n",
    "print(\"GCD of\", x, \"and\", y, \"is:\", gcd)"
   ]
  },
  {
   "cell_type": "code",
   "execution_count": 6,
   "id": "53f630db-ee5a-49fd-baa3-ef327e178bc0",
   "metadata": {},
   "outputs": [
    {
     "name": "stdout",
     "output_type": "stream",
     "text": [
      "Yes\n"
     ]
    }
   ],
   "source": [
    "'''17.Create a Python program that checks if a string is a palindrome using a for loop.'''\n",
    "\n",
    "#code\n",
    "x = \"malayalam\" \n",
    "w = \"\"\n",
    "for i in x:\n",
    "    w = i + w\n",
    "if (x == w):\n",
    "    print(\"Yes\")\n",
    "else:\n",
    "    print(\"No\")"
   ]
  },
  {
   "cell_type": "code",
   "execution_count": 7,
   "id": "ba8b8b68-a734-495d-b1db-7478a3d266f0",
   "metadata": {},
   "outputs": [
    {
     "name": "stdout",
     "output_type": "stream",
     "text": [
      "[1, 2, 5, 9]\n"
     ]
    }
   ],
   "source": [
    "'''18.Write a Python program to remove duplicates from a list using a for loop.'''\n",
    "\n",
    "#code\n",
    "l3 = [1, 2, 1, 2, 3, 4, 5, 1, 1, 2, 5, 6, 7, 8, 9, 9]\n",
    "uniqueList = []\n",
    "duplicateList = []\n",
    "for i in l3:\n",
    "    if i not in uniqueList:\n",
    "        uniqueList.append(i)\n",
    "    elif i not in duplicateList:\n",
    "        duplicateList.append(i)\n",
    "print(duplicateList)"
   ]
  },
  {
   "cell_type": "code",
   "execution_count": null,
   "id": "e02dbb9d-ae3f-47f1-a193-ce5f8e25114e",
   "metadata": {},
   "outputs": [],
   "source": [
    "'''19.Create a Python program that counts the number of words in a sentence using a for loop.'''\n",
    "\n",
    "# code"
   ]
  },
  {
   "cell_type": "code",
   "execution_count": 8,
   "id": "5ba3c34f-857f-4552-b250-3fec62ffd398",
   "metadata": {},
   "outputs": [
    {
     "name": "stdin",
     "output_type": "stream",
     "text": [
      " Please Enter the Maximum Value :  50\n"
     ]
    },
    {
     "name": "stdout",
     "output_type": "stream",
     "text": [
      "1\n",
      "3\n",
      "5\n",
      "7\n",
      "9\n",
      "11\n",
      "13\n",
      "15\n",
      "17\n",
      "19\n",
      "21\n",
      "23\n",
      "25\n",
      "27\n",
      "29\n",
      "31\n",
      "33\n",
      "35\n",
      "37\n",
      "39\n",
      "41\n",
      "43\n",
      "45\n",
      "47\n",
      "49\n",
      "The Sum of Odd Numbers from 1 to 50 = 625\n"
     ]
    }
   ],
   "source": [
    "'''20.Write a Python program to find the sum of all odd numbers from 1 to 50 using a for loop.'''\n",
    "\n",
    "#code\n",
    "maximum = int(input(\" Please Enter the Maximum Value : \"))\n",
    "Oddtotal = 0\n",
    "for number in range(1, maximum+1):\n",
    "    if(number % 2 != 0):\n",
    "        print(\"{0}\".format(number))\n",
    "        Oddtotal = Oddtotal + number\n",
    "print(\"The Sum of Odd Numbers from 1 to {0} = {1}\".format(number, Oddtotal)) "
   ]
  },
  {
   "cell_type": "code",
   "execution_count": 26,
   "id": "78a86cc7-2b5c-44e0-a475-01b735387bcc",
   "metadata": {},
   "outputs": [
    {
     "ename": "SyntaxError",
     "evalue": "'return' outside function (2134150179.py, line 5)",
     "output_type": "error",
     "traceback": [
      "\u001b[0;36m  Cell \u001b[0;32mIn[26], line 5\u001b[0;36m\u001b[0m\n\u001b[0;31m    return (year % 4 == 0 and year % 100 != 0) or (year % 400 == 0)\u001b[0m\n\u001b[0m    ^\u001b[0m\n\u001b[0;31mSyntaxError\u001b[0m\u001b[0;31m:\u001b[0m 'return' outside function\n"
     ]
    }
   ],
   "source": [
    "'''21.Write a Python program that checks if a given year is a leap year using a for loop'''\n",
    "\n",
    "#code\n",
    "for i in year:\n",
    "    return (year % 4 == 0 and year % 100 != 0) or (year % 400 == 0) \n",
    "year = int(input(\"Enter a year: \")) \n",
    "print(f\"{year} is leap year\" if i (year) else f\"{year} is not leap year\")"
   ]
  },
  {
   "cell_type": "code",
   "execution_count": 30,
   "id": "d996e37b-726f-4e9b-8021-9cda422a4c9b",
   "metadata": {},
   "outputs": [
    {
     "name": "stdin",
     "output_type": "stream",
     "text": [
      "Enter a number:  4\n"
     ]
    },
    {
     "name": "stdout",
     "output_type": "stream",
     "text": [
      "1\n",
      "4\n",
      "9\n",
      "16\n"
     ]
    }
   ],
   "source": [
    "'''22.Create a Python program that calculates the square root of a number using a for loop.'''\n",
    "\n",
    "# code\n",
    "n=int(input('Enter a number: '))\n",
    "for i in range(1,n+1):\n",
    "    print(i**2)"
   ]
  },
  {
   "cell_type": "code",
   "execution_count": 31,
   "id": "1415d784-34e5-4917-ae92-dc9018bb2517",
   "metadata": {},
   "outputs": [
    {
     "name": "stdout",
     "output_type": "stream",
     "text": [
      "LCM of 12 and 14 is 84\n"
     ]
    }
   ],
   "source": [
    "'''23.Write a Python program to find the LCM (Least Common Multiple) of two numbers using a for loop.'''\n",
    "\n",
    "# code\n",
    "num1 = 12\n",
    "num2 = 14\n",
    "for i in range(max(num1, num2), 1 + (num1 * num2)):\n",
    "    if i % num1 == i % num2 == 0:\n",
    "        lcm = i\n",
    "        break\n",
    "print(\"LCM of\", num1, \"and\", num2, \"is\", lcm)"
   ]
  },
  {
   "cell_type": "code",
   "execution_count": null,
   "id": "801e40e5-4e3f-45aa-bd53-d1cd4ace5c65",
   "metadata": {},
   "outputs": [],
   "source": []
  },
  {
   "cell_type": "code",
   "execution_count": null,
   "id": "f3a0d636-5545-49a6-88e3-e6a0c9958090",
   "metadata": {},
   "outputs": [],
   "source": [
    "# If else :"
   ]
  },
  {
   "cell_type": "code",
   "execution_count": 34,
   "id": "5d851ad6-706e-4519-a8f2-8b79fbe29754",
   "metadata": {},
   "outputs": [
    {
     "name": "stdin",
     "output_type": "stream",
     "text": [
      "Enter the Number:  0\n"
     ]
    },
    {
     "name": "stdout",
     "output_type": "stream",
     "text": [
      "Number is Zero\n"
     ]
    }
   ],
   "source": [
    "'''1.Write a Python program to check if a number is positive, negative, or zero using an if-else statement'''\n",
    "\n",
    "# code\n",
    "a = int(input(\"Enter the Number: \"))\n",
    "if a > 0:\n",
    "    print(\"Number is Positive\")\n",
    "elif a < 0:\n",
    "    print(\"Number is Negative\")\n",
    "else:\n",
    "    print(\"Number is Zero\")"
   ]
  },
  {
   "cell_type": "code",
   "execution_count": 35,
   "id": "13cb3bde-4cbd-4db9-bf90-a92f75aa8959",
   "metadata": {},
   "outputs": [
    {
     "name": "stdin",
     "output_type": "stream",
     "text": [
      "Enter a number:  56\n"
     ]
    },
    {
     "name": "stdout",
     "output_type": "stream",
     "text": [
      "56 is Even\n"
     ]
    }
   ],
   "source": [
    "'''2.Create a Python program that checks if a given number is even or odd using an if-else statement.'''\n",
    "\n",
    "# code\n",
    "num = int(input(\"Enter a number: \"))\n",
    "if (num % 2) == 0:\n",
    "    print(\"{0} is Even\".format(num))\n",
    "else:\n",
    "    print(\"{0} is Odd\".format(num))"
   ]
  },
  {
   "cell_type": "code",
   "execution_count": 37,
   "id": "c1dac6c9-3d15-4d6f-b296-ad447610e473",
   "metadata": {},
   "outputs": [
    {
     "name": "stdout",
     "output_type": "stream",
     "text": [
      "You are an adult.\n"
     ]
    }
   ],
   "source": [
    "'''3.How can you use nested if-else statements in Python, and provide an example?'''\n",
    "\n",
    "# Ans\n",
    "'''Nested if-else statements in \n",
    "Python allow you to test multiple conditions and execute different code blocks based on the results of these tests. \n",
    "The basic syntax of a nested if-else statement is as follows:'''\n",
    "\n",
    "#code\n",
    "age = 35\n",
    "if age >= 60:\n",
    "    print(\"You are a senior citizen.\")\n",
    "else:\n",
    "    if age >= 18:\n",
    "        print(\"You are an adult.\")\n",
    "    else:\n",
    "        print(\"You are a teenager.\")"
   ]
  },
  {
   "cell_type": "code",
   "execution_count": 38,
   "id": "b22c5900-5512-4dc1-aeb5-9759380775da",
   "metadata": {},
   "outputs": [
    {
     "name": "stdout",
     "output_type": "stream",
     "text": [
      "33 is the largest of three numbers.\n"
     ]
    }
   ],
   "source": [
    "'''4.Write a Python program to determine the largest of three numbers using if-else.'''\n",
    "\n",
    "# code\n",
    "a = 22\n",
    "b = 33\n",
    "c = 11\n",
    "largest = 0\n",
    "if a > b and a > c :\n",
    "    largest = a\n",
    "elif b > c :\n",
    "    largest = b\n",
    "else :\n",
    "    largest = c\n",
    "\n",
    "print(largest, \"is the largest of three numbers.\")"
   ]
  },
  {
   "cell_type": "code",
   "execution_count": 39,
   "id": "f076f0ff-4ac2-4ae5-8cf7-036732e73bd3",
   "metadata": {},
   "outputs": [
    {
     "name": "stdin",
     "output_type": "stream",
     "text": [
      "Enter the Number : -89\n"
     ]
    },
    {
     "name": "stdout",
     "output_type": "stream",
     "text": [
      "Absolute Number : 89\n"
     ]
    }
   ],
   "source": [
    "'''5.Write a Python program that calculates the absolute value of a number using if-else.'''\n",
    "\n",
    "# code\n",
    "num = int(input(\"Enter the Number :\"))\n",
    "#print(\"Absolute Number :\",abs(num))\n",
    "if(num<0):\n",
    "    num = (-1)*num\n",
    "    print(\"Absolute Number :\",num)\n",
    "else:\n",
    "    print(\"Orignal Number: \",num) "
   ]
  },
  {
   "cell_type": "code",
   "execution_count": 1,
   "id": "3111d200-49c4-4a0f-8bc1-223901585131",
   "metadata": {},
   "outputs": [],
   "source": [
    "'''6.Create a Python program that checks if a given character is a vowel or consonant using if-else.'''\n",
    "\n",
    "# code\n",
    "def vowelOrConsonant(x): \n",
    "    if (x == 'a' or x == 'e' or\n",
    "        x == 'i' or x == 'o' or x == 'u'):\n",
    "        print(\"Vowel\")\n",
    "    else:\n",
    "        print(\"Consonant\")"
   ]
  },
  {
   "cell_type": "code",
   "execution_count": 2,
   "id": "54390ce4-5f02-4054-b429-f013c83f12a6",
   "metadata": {},
   "outputs": [
    {
     "name": "stdout",
     "output_type": "stream",
     "text": [
      "Vowel\n"
     ]
    }
   ],
   "source": [
    "vowelOrConsonant('e')"
   ]
  },
  {
   "cell_type": "code",
   "execution_count": 3,
   "id": "d3c675a1-16e8-4fbd-9a1b-86ac0f895063",
   "metadata": {},
   "outputs": [
    {
     "name": "stdout",
     "output_type": "stream",
     "text": [
      "Person is  not eligible to vote\n"
     ]
    }
   ],
   "source": [
    "'''7.Write a Python program to determine if a user is eligible to vote based on their age using if-else.'''\n",
    "\n",
    "# code\n",
    "vote = 15\n",
    "if vote > 18:\n",
    "    print(\"Person is eligible to vote\")\n",
    "else:\n",
    "    print(\"Person is  not eligible to vote\")"
   ]
  },
  {
   "cell_type": "code",
   "execution_count": 4,
   "id": "e3d91c96-f3a9-486a-8795-e1789339a087",
   "metadata": {},
   "outputs": [
    {
     "name": "stdin",
     "output_type": "stream",
     "text": [
      "Enter Sale Amount:  4000\n"
     ]
    },
    {
     "name": "stdout",
     "output_type": "stream",
     "text": [
      "Discount :  200.0\n",
      "Net Pay  :  3800.0\n"
     ]
    }
   ],
   "source": [
    "'''8.Create a Python program that calculates the discount amount based on the purchase amount using if-else.'''\n",
    "\n",
    "# code\n",
    "amt = int(input(\"Enter Sale Amount: \"))\n",
    "if(amt>0):\n",
    "    if amt<=5000:\n",
    "        disc = amt*0.05\n",
    "    elif amt<=15000:\n",
    "        disc=amt*0.12\n",
    "    elif amt<=25000:\n",
    "        disc=0.2 * amt\n",
    "    else:\n",
    "         disc=0.3 * amt\n",
    "\n",
    "    print(\"Discount : \",disc)\n",
    "    print(\"Net Pay  : \",amt-disc)\n",
    "else:\n",
    "    print(\"Invalid Amount\")"
   ]
  },
  {
   "cell_type": "code",
   "execution_count": 5,
   "id": "3fc00615-7bb2-4756-843a-9c87ce1ecf27",
   "metadata": {},
   "outputs": [
    {
     "name": "stdin",
     "output_type": "stream",
     "text": [
      "Enter a number :  67\n"
     ]
    },
    {
     "name": "stdout",
     "output_type": "stream",
     "text": [
      "67 is not present in the range.\n"
     ]
    }
   ],
   "source": [
    "'''9.Write a Python program to check if a number is within a specified range using if-else.'''\n",
    "\n",
    "# code\n",
    "range_1 = range(2, 20, 3)\n",
    "number = int(input('Enter a number : '))\n",
    "if number in range_1 :\n",
    "    print(number, 'is present in the range.')\n",
    "else :\n",
    "    print(number, 'is not present in the range.')"
   ]
  },
  {
   "cell_type": "code",
   "execution_count": 6,
   "id": "b277d936-b710-437f-9026-92dc52bddea8",
   "metadata": {},
   "outputs": [
    {
     "name": "stdout",
     "output_type": "stream",
     "text": [
      "Excellent performance your grade is A+\n"
     ]
    }
   ],
   "source": [
    "'''10.Create a Python program that determines the grade of a student based on their score using if-else.'''\n",
    "\n",
    "# code\n",
    "score=95\n",
    "if score >=60:\n",
    "    print(\"Excellent performance your grade is A+\")\n",
    "else:\n",
    "    print(\"Bad performance your grade is c\")"
   ]
  },
  {
   "cell_type": "code",
   "execution_count": 9,
   "id": "f625907c-aa4a-4048-ad63-eeba5a5015fd",
   "metadata": {},
   "outputs": [
    {
     "name": "stdout",
     "output_type": "stream",
     "text": [
      "string, string1 = '', with no spaces is empty\n",
      "string, string2 = '   ', with spaces is not empty\n"
     ]
    }
   ],
   "source": [
    "'''11.Write a Python program to check if a string is empty or not using if-else.'''\n",
    "\n",
    "# code\n",
    "string1 = \"\"  \n",
    "string2 = \"   \"  \n",
    "if not string1:  \n",
    "    print(f\"string, string1 = '{string1}', with no spaces is empty\")  \n",
    "else:  \n",
    "    print(f\"string, string1 = '{string1}', with no spaces is not empty\")  \n",
    "       \n",
    "if not string2:  \n",
    "    print(f\"string, string2 = '{string2}', with spaces is empty\")  \n",
    "else:  \n",
    "    print(f\"string, string2 = '{string2}', with spaces is not empty\")  "
   ]
  },
  {
   "cell_type": "code",
   "execution_count": 10,
   "id": "d822a0f6-0cc5-436c-9d3d-71954e7017e7",
   "metadata": {},
   "outputs": [
    {
     "name": "stdin",
     "output_type": "stream",
     "text": [
      "Enter the first side of traingle 6\n",
      "Enter the second side of traingle 6\n",
      "Enter the third side of traingle 6\n"
     ]
    },
    {
     "name": "stdout",
     "output_type": "stream",
     "text": [
      "Triangle is Equilateral\n"
     ]
    }
   ],
   "source": [
    "'''12.Create a Python program that identifies the type of a triangle \n",
    "(e.g., equilateral, isosceles, or scalene) based on input values using if-else.'''\n",
    "\n",
    "# code\n",
    "x = int(input(\"Enter the first side of traingle\"))\n",
    "y = int(input(\"Enter the second side of traingle\")) \n",
    "z = int(input(\"Enter the third side of traingle\"))\n",
    "tri = 0\n",
    "if x == y:\n",
    "    if y == x:\n",
    "        print(\"Triangle is Equilateral\") \n",
    "    else:\n",
    "        print(\"Triangle is Isoscles or scalene\")\n",
    "else:\n",
    "    if x == y or y == z or z == x:\n",
    "        print(\"Triangle is Isoscles\")\n",
    "    else:\n",
    "        print(\"Triangle is Scalene\")"
   ]
  },
  {
   "cell_type": "code",
   "execution_count": 11,
   "id": "965ce28e-2386-4f83-b9aa-9ce3d2fa8be3",
   "metadata": {},
   "outputs": [
    {
     "name": "stdin",
     "output_type": "stream",
     "text": [
      "Enter the number for days of week:  8\n"
     ]
    },
    {
     "name": "stdout",
     "output_type": "stream",
     "text": [
      "No day\n"
     ]
    }
   ],
   "source": [
    "'''13.Write a Python program to determine the day of the week based on a user-provided number using if-else.'''\n",
    "\n",
    "# code\n",
    "day = int(input(\"Enter the number for days of week: \"))\n",
    "\n",
    "if day == 1:\n",
    "    print(\"Day is Monday\")\n",
    "if day == 2:\n",
    "    print(\"Day is Tuesday\")\n",
    "if day == 3:\n",
    "    print(\"Day is Wednesday\")\n",
    "if day == 4:\n",
    "    print(\"Day is Thursday\")\n",
    "if day == 5:\n",
    "    print(\"Day is Friday\")    \n",
    "if day == 6:\n",
    "    print(\"Day is Saturday\")\n",
    "if day == 7:\n",
    "    print(\"Day is Sunday\")\n",
    "else: (day > 7)\n",
    "print(\"No day\")"
   ]
  },
  {
   "cell_type": "code",
   "execution_count": 12,
   "id": "0f4d0acf-3e65-4af6-aa5b-780e454c7af0",
   "metadata": {},
   "outputs": [
    {
     "name": "stdout",
     "output_type": "stream",
     "text": [
      "2000 is a leap year\n"
     ]
    }
   ],
   "source": [
    "'''14.Create a Python program that checks if a given year is a leap year using both if-else and a function.'''\n",
    "\n",
    "# code\n",
    "def check_leap_year(year):   \n",
    "    if year % 4 == 0:\n",
    "        if year % 100 == 0:\n",
    "            if year % 400 == 0:\n",
    "                print(f\"{year} is a leap year\")\n",
    "            else:\n",
    "                print(f\"{year} is not a leap year\")\n",
    "        else:\n",
    "            print(f\"{year} is a leap year\")\n",
    "    else:\n",
    "        print(f\"{year} is not a leap year\")\n",
    "check_leap_year(2000)"
   ]
  },
  {
   "cell_type": "code",
   "execution_count": 14,
   "id": "2a8353d4-770a-4ad9-bb43-7fca4cd67440",
   "metadata": {},
   "outputs": [
    {
     "name": "stdout",
     "output_type": "stream",
     "text": [
      "x = 10\n",
      "y = 20\n"
     ]
    }
   ],
   "source": [
    "'''15.How do you use the \"assert\" statement in Python to add debugging checks within if-else blocks?'''\n",
    "\n",
    "# Ans\n",
    "\n",
    "'''In Python, the assert keyword helps in achieving this task. \n",
    "This statement takes as input a boolean condition, which when returns true doesn’t \n",
    "do anything and continues the normal flow of execution, but if it is computed to be false, \n",
    "then it raises an AssertionError along with the optional message provided.'''\n",
    "\n",
    "# code\n",
    "\n",
    "x = 10\n",
    "y = 20\n",
    "assert x < y\n",
    "print(\"x =\", x)\n",
    "print(\"y =\", y)\n"
   ]
  },
  {
   "cell_type": "code",
   "execution_count": 1,
   "id": "a3b0d090-0bd0-4875-b211-fc2aa060fdbc",
   "metadata": {},
   "outputs": [
    {
     "name": "stdin",
     "output_type": "stream",
     "text": [
      "Enter the age to check you are eligible for discount or not 45\n"
     ]
    },
    {
     "name": "stdout",
     "output_type": "stream",
     "text": [
      "You are not Senior citizen\n"
     ]
    }
   ],
   "source": [
    "'''16.Create a Python program that determines the eligibility of a \n",
    "person for a senior citizen discount based on age using if-else.'''\n",
    "\n",
    "# code\n",
    "age = int(input(\"Enter the age to check you are eligible for discount or not\"))\n",
    "if age <= 60:\n",
    "    print(\"You are not Senior citizen\")\n",
    "elif age <= 70:\n",
    "    print(\"Congrulation, You are eligible for 10% discount\")\n",
    "elif age <=75:\n",
    "    print(\"Congrulations, You are eligible for  20% discount\")\n",
    "else:\n",
    "    print(\"Congrulations, You are eligible for  50% discount\")"
   ]
  },
  {
   "cell_type": "code",
   "execution_count": 14,
   "id": "29420203-c140-4064-a7d6-0e441d485208",
   "metadata": {},
   "outputs": [
    {
     "name": "stdin",
     "output_type": "stream",
     "text": [
      "Enter the character A\n"
     ]
    },
    {
     "name": "stdout",
     "output_type": "stream",
     "text": [
      "Character is UPPERCASE\n"
     ]
    }
   ],
   "source": [
    "'''17.Write a Python program to categorize a given character as uppercase, lowercase, or neither using if-else.'''\n",
    "\n",
    "# Code\n",
    "c = input(\"Enter the character\")\n",
    "if c.isupper():\n",
    "    print(\"Character is UPPERCASE\")\n",
    "elif c.islower():\n",
    "    print(\"Character is lowercase\")\n",
    "else:\n",
    "    print(\"character is neither upper or lower\")"
   ]
  },
  {
   "cell_type": "code",
   "execution_count": 15,
   "id": "576d297e-63a5-4628-8ae2-177aeee9ae20",
   "metadata": {},
   "outputs": [
    {
     "name": "stdin",
     "output_type": "stream",
     "text": [
      "Enter a: 5\n",
      "Enter b: 6\n",
      "Enter c: 7\n"
     ]
    },
    {
     "name": "stdout",
     "output_type": "stream",
     "text": [
      "Complex Roots\n",
      "-0.6  + i 10.198039027185569\n",
      "-0.6  - i 10.198039027185569\n"
     ]
    }
   ],
   "source": [
    "'''18.Write a Python program to determine the roots of a quadratic equation using if-else.'''\n",
    "\n",
    "# code\n",
    "import math    \n",
    "def findRoots(a, b, c):  \n",
    "  \n",
    "    dis_form = b * b - 4 * a * c  \n",
    "    sqrt_val = math.sqrt(abs(dis_form))    \n",
    "    if dis_form > 0:  \n",
    "        print(\" real and different roots \")  \n",
    "        print((-b + sqrt_val) / (2 * a))  \n",
    "        print((-b - sqrt_val) / (2 * a))   \n",
    "    elif dis_form == 0:  \n",
    "        print(\" real and same roots\")  \n",
    "        print(-b / (2 * a))  \n",
    "    else:  \n",
    "        print(\"Complex Roots\")  \n",
    "        print(- b / (2 * a), \" + i\", sqrt_val)  \n",
    "        print(- b / (2 * a), \" - i\", sqrt_val)   \n",
    "a = int(input('Enter a:'))  \n",
    "b = int(input('Enter b:'))  \n",
    "c = int(input('Enter c:'))   \n",
    "if a == 0:  \n",
    "    print(\"Input correct quadratic equation\")   \n",
    "else:  \n",
    "    findRoots(a, b, c) "
   ]
  },
  {
   "cell_type": "code",
   "execution_count": 1,
   "id": "1791d999-fb5c-4871-8233-4b675e35dbcd",
   "metadata": {},
   "outputs": [
    {
     "name": "stdout",
     "output_type": "stream",
     "text": [
      "21 century\n"
     ]
    }
   ],
   "source": [
    "'''19.Create a Python program that checks if a given year is a century year or not using if-else.'''\n",
    "\n",
    "# code\n",
    "def find_century(year):\n",
    "    if (year <= 0):\n",
    "        print(\"0 and negative is not allow for a year\")\n",
    "        print(\"1st century\")\n",
    "    elif (year % 100 == 0):\n",
    "        print(year // 100,\"century\")\n",
    "    else:\n",
    "        print(year // 100 + 1,\"century\")\n",
    "# Driver code\n",
    "year = 2001\n",
    "find_century(year)\n"
   ]
  },
  {
   "cell_type": "code",
   "execution_count": 3,
   "id": "25cb7952-5ed5-42ae-a0c7-cd67ad3b6b5d",
   "metadata": {},
   "outputs": [
    {
     "name": "stdin",
     "output_type": "stream",
     "text": [
      "Enter Number:  9\n"
     ]
    },
    {
     "name": "stdout",
     "output_type": "stream",
     "text": [
      "The number is a perfect square\n"
     ]
    }
   ],
   "source": [
    "'''20.Write a Python program to determine if a given number is a perfect square using if-else.'''\n",
    "\n",
    "# code\n",
    "import math  \n",
    "num = int(input(\"Enter Number: \"))  \n",
    "sqrt_num = math.sqrt(num)  \n",
    "if sqrt_num.is_integer():  \n",
    "    print(\"The number is a perfect square\")  \n",
    "else:  \n",
    "    print(\"The number is not a perfect square\") "
   ]
  },
  {
   "cell_type": "code",
   "execution_count": 5,
   "id": "da82cc74-c2b3-4ad3-a84a-64419c75ed9d",
   "metadata": {},
   "outputs": [
    {
     "name": "stdout",
     "output_type": "stream",
     "text": [
      "0\n",
      "1\n",
      "2\n",
      "0\n",
      "1\n",
      "2\n",
      "4\n"
     ]
    }
   ],
   "source": [
    "'''21.Explain the purpose of the \"continue\" and \"break\" statements within if-else loops.'''\n",
    "\n",
    "# Ans\n",
    "'''\n",
    "The break and continue statements in Python are used to skip parts of the current loop or break out of the loop completely.\n",
    "\n",
    "The break statement can be used if you need to break out of a for or while loop and move onto the next section of code.\n",
    "\n",
    "The continue statement can be used if you need to skip the current iteration of a for or while loop and move onto the next \n",
    "iteration.\n",
    "'''\n",
    "\n",
    "# code for Break\n",
    "\n",
    "for i in range(5):\n",
    "    if i == 3:\n",
    "        break\n",
    "    print(i)\n",
    "    \n",
    "    \n",
    "\n",
    "# code for continue\n",
    "for i in range(5):\n",
    "    if i == 3:\n",
    "        continue\n",
    "    print(i)"
   ]
  },
  {
   "cell_type": "code",
   "execution_count": 8,
   "id": "6de4443b-cf38-49a1-92b3-c25dc9e3bcc7",
   "metadata": {},
   "outputs": [
    {
     "name": "stdin",
     "output_type": "stream",
     "text": [
      "Enter the height in cm:  160\n",
      "Enter the weight in kg:  63\n"
     ]
    },
    {
     "name": "stdout",
     "output_type": "stream",
     "text": [
      "Your Body Mass Index is 24.609374999999996\n",
      "You are healthy.\n"
     ]
    }
   ],
   "source": [
    "'''22.Create a Python program that calculates the BMI (Body Mass Index) \n",
    "of a person based on their weight and height using if-else.'''\n",
    "\n",
    "# code\n",
    "the_height = float(input(\"Enter the height in cm: \"))  \n",
    "the_weight = float(input(\"Enter the weight in kg: \"))  \n",
    "the_BMI = the_weight / (the_height/100)**2  \n",
    "print(\"Your Body Mass Index is\", the_BMI)  \n",
    "if the_BMI <= 18.5:  \n",
    "    print(\"You are underweight.\")  \n",
    "elif the_BMI <= 24.9:  \n",
    "    print(\"You are healthy.\")  \n",
    "elif the_BMI <= 29.9:  \n",
    "    print(\"You are over weight.\")  \n",
    "else:  \n",
    "    print(\" You are obese.\")  "
   ]
  },
  {
   "cell_type": "code",
   "execution_count": 10,
   "id": "e84f3342-011d-4c63-8d5a-dabc2684ffc2",
   "metadata": {},
   "outputs": [
    {
     "name": "stdout",
     "output_type": "stream",
     "text": [
      "The filtered letters are:\n",
      "e\n",
      "e\n"
     ]
    }
   ],
   "source": [
    "'''23.How can you use the \"filter()\" function with if-else statements to filter elements from a list?'''\n",
    "\n",
    "# Ans \n",
    "'''The filter() method filters the given sequence with the help of a\n",
    "function that tests each element in the sequence to be true or not. '''\n",
    "\n",
    "\n",
    "# code\n",
    "def fun(variable):\n",
    "    letters = ['a', 'e', 'i', 'o', 'u']\n",
    "    if (variable in letters):\n",
    "        return True\n",
    "    else:\n",
    "        return False\n",
    "sequence = ['g', 'e', 'e', 'j', 'k', 's', 'p', 'r']\n",
    "filtered = filter(fun, sequence)\n",
    "print('The filtered letters are:')\n",
    "for s in filtered:\n",
    "    print(s)"
   ]
  },
  {
   "cell_type": "code",
   "execution_count": 12,
   "id": "dd0ac1a9-cede-4442-80fd-dff9a269b04a",
   "metadata": {},
   "outputs": [
    {
     "name": "stdout",
     "output_type": "stream",
     "text": [
      "5 is a prime number\n"
     ]
    }
   ],
   "source": [
    "'''24.Write a Python program to determine if a given number is prime or not using if-else.'''\n",
    "\n",
    "#  code\n",
    "n = 5\n",
    "if n > 1:\n",
    "    for i in range(2, int(n/2)+1):\n",
    "        if (n % i) == 0:\n",
    "            print(num, \"is not a prime number\")\n",
    "            break\n",
    "        else:\n",
    "                print(n, \"is a prime number\")\n",
    "else:\n",
    "    print(n, \"is not a prime number\")"
   ]
  },
  {
   "cell_type": "code",
   "execution_count": null,
   "id": "a9dbb412-3a1b-43ff-a8dc-04588e350779",
   "metadata": {},
   "outputs": [],
   "source": []
  },
  {
   "cell_type": "code",
   "execution_count": null,
   "id": "b12f5bf5-aad3-4cf9-b7c4-e9011b27fc72",
   "metadata": {},
   "outputs": [],
   "source": [
    "# Map :-"
   ]
  },
  {
   "cell_type": "code",
   "execution_count": 13,
   "id": "ded714af-e12f-4a59-94b2-7c3e0785e4b9",
   "metadata": {},
   "outputs": [
    {
     "name": "stdout",
     "output_type": "stream",
     "text": [
      "[9, 25, 49, 121, 169]\n"
     ]
    }
   ],
   "source": [
    "'''1.Explain the purpose of the `map()` function in Python and provide an example of how it \n",
    "can be used to apply a function to each element of an iterable.'''\n",
    "\n",
    "# Ans\n",
    "'''\n",
    "The map in Python takes a function and an iterable/iterables. It loops over each item of an iterable and applies the \n",
    "transformation function to it. Then, it returns a map object that stores the value of the transformed item.\n",
    "The input function can be any callable function, including built-in functions, lambda functions, user-defined functions,\n",
    "classes, and methods. Now, calculate the same multiplication as you did in the previous example, \n",
    "but this time with both the for loop and the map functions separately, to understand how the map() function works.\n",
    "'''\n",
    "\n",
    "# code\n",
    "num = [3, 5, 7, 11, 13]\n",
    "mul = []\n",
    "for n in num:\n",
    "    mul.append(n ** 2)\n",
    "print (mul)"
   ]
  },
  {
   "cell_type": "code",
   "execution_count": 14,
   "id": "871b00d1-39d9-4b03-996c-bf68b9ddde57",
   "metadata": {},
   "outputs": [
    {
     "name": "stdout",
     "output_type": "stream",
     "text": [
      "Original List:  [4, 5, 2, 9]\n",
      "Square the elements of the said list using map():\n",
      "[16, 25, 4, 81]\n"
     ]
    }
   ],
   "source": [
    "'''2.Write a Python program that uses the `map()` function to square each element of a list of numbers.'''\n",
    "\n",
    "# code\n",
    "def square_num(n):\n",
    "    return n * n\n",
    "nums = [4, 5, 2, 9]\n",
    "print(\"Original List: \",nums)\n",
    "result = map(square_num, nums)\n",
    "print(\"Square the elements of the said list using map():\")\n",
    "print(list(result))"
   ]
  },
  {
   "cell_type": "code",
   "execution_count": 4,
   "id": "24e60779-c3a9-4379-83ae-d5052c26cfca",
   "metadata": {},
   "outputs": [],
   "source": [
    "'''3.How does the `map()` function differ from a list comprehension in Python, and when would you choose one over the other?'''\n",
    "\n",
    "# Ans\n",
    "'''List comprehension returns a list, whereas the map function returns an object of Iterable. \n",
    "\n",
    "List comprehension execution is faster than that of map function when the formula expression is huge and complex. \n",
    "\n",
    "Map function is faster than list comprehension when the formula is already defined as a function earlier. \n",
    "So, that map function is used without lambda expression. \n",
    "'''\n",
    "\n",
    "# code\n",
    "def myfunc(a, b):\n",
    "    return a + b\n",
    "x = map(myfunc, ('apple', 'banana', 'cherry'), ('orange', 'lemon', 'pineapple'))"
   ]
  },
  {
   "cell_type": "code",
   "execution_count": 5,
   "id": "8ef4c614-f818-4828-be34-cd1bb9d417ae",
   "metadata": {},
   "outputs": [
    {
     "data": {
      "text/plain": [
       "'applelemon'"
      ]
     },
     "execution_count": 5,
     "metadata": {},
     "output_type": "execute_result"
    }
   ],
   "source": [
    "myfunc('apple', 'lemon')"
   ]
  },
  {
   "cell_type": "code",
   "execution_count": 6,
   "id": "325f524e-afbd-4e7f-826d-a01e3831545d",
   "metadata": {},
   "outputs": [
    {
     "name": "stdout",
     "output_type": "stream",
     "text": [
      "['geek', 'for', 'geeks']\n"
     ]
    }
   ],
   "source": [
    "'''4.Create a Python program that uses the `map()` function to convert a list of names to uppercase.'''\n",
    "\n",
    "# code\n",
    "out = map(lambda x:x.lower(), ['GeEk', 'FOR', 'gEEKS'])\n",
    "output = list(out)\n",
    "print(output)"
   ]
  },
  {
   "cell_type": "code",
   "execution_count": 7,
   "id": "43e54188-dba2-4254-a540-4679c0840633",
   "metadata": {},
   "outputs": [
    {
     "name": "stdout",
     "output_type": "stream",
     "text": [
      "The original string is : This is my first code in python language\n",
      "The list of words lengths is : [4, 2, 2, 5, 4, 2, 6, 8]\n"
     ]
    }
   ],
   "source": [
    "'''5.Write a Python program that uses the `map()` function to calculate the length of each word in a list of strings.'''\n",
    "\n",
    "# code\n",
    "test_string = \"This is my first code in python language\"\n",
    "print(\"The original string is : \" + test_string)\n",
    "res = list(map(len, test_string.split()))\n",
    "print(\"The list of words lengths is : \" + str(res))"
   ]
  },
  {
   "cell_type": "code",
   "execution_count": 8,
   "id": "501394a6-2fc2-4331-87d2-5a57b579e9d7",
   "metadata": {},
   "outputs": [
    {
     "name": "stdout",
     "output_type": "stream",
     "text": [
      "[2, 4, 6]\n"
     ]
    }
   ],
   "source": [
    "'''6.How can you use the `map()` function to apply a custom function to elements of multiple lists simultaneously in Python?'''\n",
    "\n",
    "# code\n",
    "\n",
    "def double(integer):\n",
    "    return integer*2 \n",
    "integer_list = [1, 2, 3]\n",
    "output_list = list(map(double, integer_list))\n",
    "print(output_list)"
   ]
  },
  {
   "cell_type": "code",
   "execution_count": null,
   "id": "9db660c7-a490-4c34-a4d0-26dfd34a12a8",
   "metadata": {},
   "outputs": [],
   "source": [
    "'''7.Create a Python program that uses `map()` to convert a list of temperatures from Celsius to Fahrenheit.'''\n",
    "\n",
    "# code"
   ]
  },
  {
   "cell_type": "code",
   "execution_count": null,
   "id": "040f3cb7-458f-480e-a1f7-2a0def531c12",
   "metadata": {},
   "outputs": [],
   "source": [
    "'''8.Write a Python program that uses the `map()` function to round each element of a list of floating-point \n",
    "numbers to the nearest integer.'''\n",
    "\n",
    "# code"
   ]
  },
  {
   "cell_type": "code",
   "execution_count": null,
   "id": "84ee5ed0-1073-478b-ac6d-ffe1cf40f16e",
   "metadata": {},
   "outputs": [],
   "source": []
  },
  {
   "cell_type": "code",
   "execution_count": null,
   "id": "4456354b-f0bd-4a1c-a77f-f9cf7bf5d6fe",
   "metadata": {},
   "outputs": [],
   "source": [
    "# Reduce"
   ]
  },
  {
   "cell_type": "code",
   "execution_count": 1,
   "id": "83582ef8-5f31-45c0-a73d-f761b13ed97b",
   "metadata": {},
   "outputs": [
    {
     "name": "stdout",
     "output_type": "stream",
     "text": [
      "The sum of the list elements is : 17\n",
      "The maximum element of the list is : 6\n"
     ]
    }
   ],
   "source": [
    "'''1.What is the `reduce()` function in Python, and what module should you import to use it? Provide \n",
    "an example of its basic usage.'''\n",
    "\n",
    "# Ans\n",
    "\n",
    "'''\n",
    "The reduce(fun,seq) function is used to apply a particular function passed in its argument to all of \n",
    "the list elements mentioned in the sequence passed along.This function is defined in “functools” module.\n",
    "\n",
    "Working :  \n",
    "\n",
    "1.At first step, first two elements of sequence are picked and the result is obtained.\n",
    "2.Next step is to apply the same function to the previously attained result and the number just succeeding the second \n",
    "element and the result is again stored.\n",
    "3.This process continues till no more elements are left in the container.\n",
    "4.The final returned result is returned and printed on console.\n",
    "'''\n",
    "\n",
    "# code\n",
    "import functools\n",
    "lis = [1, 3, 5, 6, 2]\n",
    "print(\"The sum of the list elements is : \", end=\"\")\n",
    "print(functools.reduce(lambda a, b: a+b, lis))\n",
    "print(\"The maximum element of the list is : \", end=\"\")\n",
    "print(functools.reduce(lambda a, b: a if a > b else b, lis))"
   ]
  },
  {
   "cell_type": "code",
   "execution_count": 4,
   "id": "3c059f0e-cca2-494b-98d0-e59d7ff231df",
   "metadata": {},
   "outputs": [
    {
     "name": "stdout",
     "output_type": "stream",
     "text": [
      "315\n"
     ]
    }
   ],
   "source": [
    "'''2.Write a Python program that uses the `reduce()` function to find the product of all elements in a list.'''\n",
    "\n",
    "# code\n",
    "from functools import reduce\n",
    "list1 = [5, 9, 7]\n",
    "result1 = reduce((lambda x, y: x * y), list1)\n",
    "print(result1)"
   ]
  },
  {
   "cell_type": "code",
   "execution_count": 5,
   "id": "c6376902-170f-4be6-a22a-928dcb7c8bc1",
   "metadata": {},
   "outputs": [
    {
     "name": "stdout",
     "output_type": "stream",
     "text": [
      "100\n"
     ]
    }
   ],
   "source": [
    "'''3.Create a Python program that uses `reduce()` to find the maximum element in a list of numbers.'''\n",
    "\n",
    "# code\n",
    "from functools import reduce\n",
    "lst = [20, 10, 20, 4, 100]\n",
    "largest_elem = reduce(max, lst)\n",
    "print(largest_elem)"
   ]
  },
  {
   "cell_type": "code",
   "execution_count": 6,
   "id": "3a4921f4-71f9-4746-b691-12a861c09ef3",
   "metadata": {},
   "outputs": [
    {
     "name": "stdout",
     "output_type": "stream",
     "text": [
      "apple, banana, orange, grape\n"
     ]
    }
   ],
   "source": [
    "'''4.How can you use the `reduce()` function to concatenate a list of strings into a single string?'''\n",
    "\n",
    "# code\n",
    "from functools import reduce\n",
    "fruits = ['apple', 'banana', 'orange', 'grape']\n",
    "def concatenate_strings(str1, str2):\n",
    "    return str1 + ', ' + str2\n",
    "result = reduce(concatenate_strings, fruits)\n",
    "print(result)"
   ]
  },
  {
   "cell_type": "code",
   "execution_count": 11,
   "id": "9894251a-54af-4e09-a6a4-a47717c552c5",
   "metadata": {},
   "outputs": [
    {
     "name": "stdin",
     "output_type": "stream",
     "text": [
      "Enter number:  5\n"
     ]
    },
    {
     "name": "stdout",
     "output_type": "stream",
     "text": [
      "5 != 120\n"
     ]
    }
   ],
   "source": [
    "'''5.Write a Python program that calculates the factorial of a number using the `reduce()` function.'''\n",
    "\n",
    "# code\n",
    "from functools import reduce\n",
    "number = int(input('Enter number: '))\n",
    "Factorial = lambda number: reduce(lambda x, y: x * y, range(1, number+1))\n",
    "print('%d != %d' %(number, Factorial(number)))"
   ]
  },
  {
   "cell_type": "code",
   "execution_count": 12,
   "id": "caa1c5d3-eb79-4c88-8449-f1c895a47fc1",
   "metadata": {},
   "outputs": [
    {
     "name": "stdout",
     "output_type": "stream",
     "text": [
      "GCD of 336,360\n",
      "24\n"
     ]
    }
   ],
   "source": [
    "'''6.Create a Python program that uses `reduce()` to find the GCD (Greatest Common Divisor) of a list of numbers.'''\n",
    "\n",
    "# code\n",
    "from functools import reduce\n",
    "from math import gcd as _gcd\n",
    "def gcd(nums):\n",
    "    return reduce(_gcd, nums)\n",
    "nums = [336, 360]\n",
    "print(\"GCD of\",','.join(str(e) for e in nums))\n",
    "print(gcd(nums))"
   ]
  },
  {
   "cell_type": "code",
   "execution_count": 16,
   "id": "9a98758b-b486-4375-b65b-568ae6d9155c",
   "metadata": {},
   "outputs": [
    {
     "name": "stdout",
     "output_type": "stream",
     "text": [
      "The sum of the list elements is : 17\n"
     ]
    }
   ],
   "source": [
    "'''7.Write a Python program that uses the `reduce()` function to find the sum of the digits of a given number.'''\n",
    "\n",
    "# code\n",
    "import functools\n",
    "lis = [1, 3, 5, 6, 2]\n",
    "print(\"The sum of the list elements is : \", end=\"\")\n",
    "print(functools.reduce(lambda a, b: a+b, lis))"
   ]
  },
  {
   "cell_type": "code",
   "execution_count": null,
   "id": "742d23ee-3603-46c1-b167-408c524a6eb5",
   "metadata": {},
   "outputs": [],
   "source": [
    "   "
   ]
  },
  {
   "cell_type": "code",
   "execution_count": null,
   "id": "ffe4e956-9ca5-4b31-85da-0f711707df22",
   "metadata": {},
   "outputs": [],
   "source": [
    "# Filter:-"
   ]
  },
  {
   "cell_type": "code",
   "execution_count": 1,
   "id": "b6af87ff-38cf-4a75-9d7b-65caa3106d5b",
   "metadata": {},
   "outputs": [
    {
     "name": "stdout",
     "output_type": "stream",
     "text": [
      "The list of odd numbers is:  [5, 23, 53, 93, -13]\n",
      "The list of even numbers is:  [10, 64, 42, 2, 0, -14, 6, -22]\n"
     ]
    }
   ],
   "source": [
    "'''1. Explain the purpose of the `filter()` function in Python and provide an example of how it can be used \n",
    "to filter elements from an iterable.'''\n",
    "\n",
    "\n",
    "# Ans\n",
    "'''\n",
    "Filter() is a built-in function in Python. The filter function can be applied to an iterable such as\n",
    "a list or a dictionary and create a new iterator. \n",
    "This new iterator can filter out certain specific elements based on the condition that you provide very efficiently. \n",
    "'''\n",
    "\n",
    "# code\n",
    "nums = [5, 10, 23, 64, 42, 53, 93, 2, 0, -14, 6, -22, -13]\n",
    "odd = filter(lambda p : p%2 != 0, nums)\n",
    "even = filter(lambda p: p%2 == 0, nums)\n",
    "print(\"The list of odd numbers is: \", list(odd))\n",
    "print(\"The list of even numbers is: \", list(even))"
   ]
  },
  {
   "cell_type": "code",
   "execution_count": 5,
   "id": "616ec2b1-b514-4fbf-918a-23c606d2867b",
   "metadata": {},
   "outputs": [
    {
     "name": "stdout",
     "output_type": "stream",
     "text": [
      "The list of even numbers is:  [10, 34, 6, 42, 50, 2, 0, 800, 4, -76]\n"
     ]
    }
   ],
   "source": [
    "'''2.Write a Python program that uses the `filter()` function to select even numbers from a list of integers.'''\n",
    "\n",
    "# code\n",
    "nums = [5, 10, 34, 6, 42, 50, 5, 2, 0, 800, 4, -76, -19]\n",
    "even = filter(lambda p: p%2 == 0, nums)\n",
    "print(\"The list of even numbers is: \", list(even))"
   ]
  },
  {
   "cell_type": "code",
   "execution_count": 6,
   "id": "e51ff585-8e8d-4990-b137-461f02762799",
   "metadata": {},
   "outputs": [
    {
     "name": "stdout",
     "output_type": "stream",
     "text": [
      "The original list : ['Akash', 'Nikhil', 'Manjeet', 'akshat']\n",
      "The list of matching first letter : ['Akash', 'akshat']\n"
     ]
    }
   ],
   "source": [
    "'''3.Create a Python program that uses the `filter()` function to select names that start with a \n",
    "specific letter from a list of strings.'''\n",
    "\n",
    "# code\n",
    "test_list = ['Akash', 'Nikhil', 'Manjeet', 'akshat']\n",
    "check = 'A'\n",
    "print(\"The original list : \" + str(test_list))\n",
    "res = list(filter(lambda x: x[0].lower() == check.lower(), test_list))\n",
    "print(\"The list of matching first letter : \" + str(res))"
   ]
  },
  {
   "cell_type": "code",
   "execution_count": 13,
   "id": "63ce5398-5374-4f2e-b674-ecafeb67bf51",
   "metadata": {},
   "outputs": [
    {
     "name": "stdout",
     "output_type": "stream",
     "text": [
      "[3, 5, 7, 9]\n"
     ]
    }
   ],
   "source": [
    "'''4.Write a Python program that uses the `filter()` function to select prime numbers from a list of integers.'''\n",
    "\n",
    "# code\n",
    "def find_prime(n):\n",
    "        if n <=1:\n",
    "            return False\n",
    "        else:\n",
    "            for i in range(2, n):\n",
    "                if n % i == 0:\n",
    "                    return False\n",
    "                return True\n",
    "n = 10\n",
    "x = filter(find_prime, range(n))\n",
    "print(list(x))"
   ]
  },
  {
   "cell_type": "code",
   "execution_count": 14,
   "id": "d753b527-d1c0-4a57-bb7a-5f350a43bfc8",
   "metadata": {},
   "outputs": [
    {
     "name": "stdout",
     "output_type": "stream",
     "text": [
      "The original list is : [1, None, 4, None, None, 5, 8, None, False]\n",
      "List after removal of None values : [1, 4, 5, 8, False]\n"
     ]
    }
   ],
   "source": [
    "'''5.How can you use the `filter()` function to remove None values from a list in Python?'''\n",
    "\n",
    "# Ans\n",
    "'''\n",
    "The Python filter() function is the most concise and readable way to perform this particular task. \n",
    "It checks for any None value in list and removes them and form a filtered list without the None values. \n",
    "'''\n",
    "\n",
    "# code\n",
    "test_list = [1, None, 4, None, None, 5, 8, None, False]\n",
    "print (\"The original list is : \" + str(test_list))\n",
    "res = list(filter(lambda item: item is not None, test_list))\n",
    "print (\"List after removal of None values : \" + str(res))"
   ]
  },
  {
   "cell_type": "code",
   "execution_count": 21,
   "id": "b0518f04-489e-4ad1-b803-29578a04fe52",
   "metadata": {},
   "outputs": [
    {
     "name": "stdout",
     "output_type": "stream",
     "text": [
      "The original list : ['you', 'girl', 'best', 'chikooo', 'Mango']\n",
      "The above Threshold size strings are : ['chikooo']\n"
     ]
    }
   ],
   "source": [
    "'''6.Create a Python program that uses `filter()` to select words longer than a certain length from a list of strings.'''\n",
    "\n",
    "# code\n",
    "test_list = ['you', 'girl', 'best', 'chikooo', 'Mango']\n",
    "print(\"The original list : \" + str(test_list))\n",
    "wlen= 6\n",
    "res = list(filter(lambda ele: len(ele) >= wlen, test_list))\n",
    "print(\"The above Threshold size strings are : \" + str(res))"
   ]
  },
  {
   "cell_type": "code",
   "execution_count": 19,
   "id": "642eaf5b-2448-47df-8abb-728b7a106442",
   "metadata": {},
   "outputs": [
    {
     "name": "stdout",
     "output_type": "stream",
     "text": [
      "The original list : ['dog', 'cow', 'Elephant', 'kivi', 'Apple']\n",
      "The above Threshold size strings are : ['Elephant']\n"
     ]
    }
   ],
   "source": [
    "'''7.Write a Python program that uses the `filter()` function to select elements greater than a specified threshold from a \n",
    "list of values.'''\n",
    "\n",
    "# code\n",
    "test_list = ['dog', 'cow', 'Elephant', 'kivi', 'Apple']\n",
    "print(\"The original list : \" + str(test_list))\n",
    "thres = 7\n",
    "res = list(filter(lambda ele: len(ele) >= thres, test_list))\n",
    "print(\"The above Threshold size strings are : \" + str(res))"
   ]
  },
  {
   "cell_type": "code",
   "execution_count": null,
   "id": "f2b73077-6c5c-435f-81ac-a429db0efc6d",
   "metadata": {},
   "outputs": [],
   "source": []
  },
  {
   "cell_type": "code",
   "execution_count": null,
   "id": "44bb8bb6-337e-4d03-b578-d8908d4f9702",
   "metadata": {},
   "outputs": [],
   "source": [
    "# Recursion:-"
   ]
  },
  {
   "cell_type": "code",
   "execution_count": 23,
   "id": "e513242a-082b-401f-a59c-26b9f09c894e",
   "metadata": {},
   "outputs": [
    {
     "name": "stdout",
     "output_type": "stream",
     "text": [
      "8\n"
     ]
    }
   ],
   "source": [
    "'''1.Explain the concept of recursion in Python. How does it differ from iteration?'''\n",
    "\n",
    "# Ans\n",
    "'''\n",
    "Recursion and Iteration are two important concepts of programming where we need to repetitively \n",
    "do certain operations until the given condition is not met. In recursion, the function calls itself in its body to solve the \n",
    "problem, typically breaking into smaller and more manageable sub-problems. In contrast, \n",
    "Iteration is a technique that repetitively executes a code block until the condition is unmet.\n",
    "'''\n",
    "\n",
    "# code\n",
    "def fibonacci(n):\n",
    "    # Base case\n",
    "    if n <= 1:\n",
    "        return n\n",
    "    # Recursive case\n",
    "    else:\n",
    "        return fibonacci(n-1) + fibonacci(n-2)\n",
    "print(fibonacci(6)) "
   ]
  },
  {
   "cell_type": "code",
   "execution_count": 25,
   "id": "2a2b8b5b-7638-4cea-a881-0dede9e78586",
   "metadata": {},
   "outputs": [
    {
     "name": "stdin",
     "output_type": "stream",
     "text": [
      "Enter the number 4\n"
     ]
    },
    {
     "name": "stdout",
     "output_type": "stream",
     "text": [
      "number :  4\n",
      "Factorial :  24\n"
     ]
    }
   ],
   "source": [
    "'''2.Write a Python program to calculate the factorial of a number using recursion'''\n",
    "\n",
    "# code\n",
    "def factorial(n):\n",
    "    if (n==1 or n==0):         \n",
    "        return 1    \n",
    "    else:\n",
    "        return (n * factorial(n - 1))\n",
    "num = int(input(\"Enter the number\"));\n",
    "print(\"number : \",num)\n",
    "print(\"Factorial : \",factorial(num))"
   ]
  },
  {
   "cell_type": "code",
   "execution_count": 27,
   "id": "238de79a-0bd1-416b-8dcb-6e1a66471485",
   "metadata": {},
   "outputs": [
    {
     "name": "stdout",
     "output_type": "stream",
     "text": [
      "13\n"
     ]
    }
   ],
   "source": [
    "'''3.Create a recursive Python function to find the nth Fibonacci number.'''\n",
    "\n",
    "# code\n",
    "def Fibonacci(n):\n",
    "    if n<= 0:\n",
    "        print(\"Incorrect input\")\n",
    "    elif n == 1:\n",
    "        return 0\n",
    "    elif n == 2:\n",
    "        return 1\n",
    "    else:\n",
    "        return Fibonacci(n-1)+Fibonacci(n-2)\n",
    "print(Fibonacci(8))"
   ]
  },
  {
   "cell_type": "code",
   "execution_count": 32,
   "id": "ab23a4a7-0f16-4545-b3c1-4c375dc9ecea",
   "metadata": {},
   "outputs": [
    {
     "name": "stdout",
     "output_type": "stream",
     "text": [
      "15\n"
     ]
    }
   ],
   "source": [
    "'''4.Write a recursive Python function to calculate the sum of all elements in a list'''\n",
    "\n",
    "# code\n",
    "def getSum(piece):\n",
    "    if len(piece)==0:\n",
    "        return 0\n",
    "    else:\n",
    "        return piece[0] + getSum(piece[1:]) \n",
    "print(getSum([1, 3, 4, 2, 5]))"
   ]
  },
  {
   "cell_type": "code",
   "execution_count": null,
   "id": "2277c241-6b45-413f-8c53-0e25e2d161de",
   "metadata": {},
   "outputs": [],
   "source": [
    "'''5.How can you prevent a recursive function from running indefinitely, causing a stack overflow error?'''\n",
    "\n",
    "# Ans\n",
    "'''\n",
    "Handling recursion limit –\n",
    "The “sys” module in Python provides a function called setrecursionlimit() to modify the recursion limit in Python.\n",
    "It takes one parameter, the value of the new recursion limit. By default, this value is usually 10^3. \n",
    "If you are dealing with large inputs, you can set it to,\n",
    "10^6 so that large inputs can be handled without any errors.\n",
    "'''"
   ]
  },
  {
   "cell_type": "code",
   "execution_count": 33,
   "id": "65f57c00-f11b-40e8-8400-d2e991da6418",
   "metadata": {},
   "outputs": [
    {
     "name": "stdout",
     "output_type": "stream",
     "text": [
      "5\n"
     ]
    }
   ],
   "source": [
    "'''6.Create a recursive Python function to find the greatest common divisor (GCD) of two numbers using the\n",
    "Euclidean algorithm.'''\n",
    "\n",
    "# code\n",
    "def gcd(a, b):\n",
    "    if a == b:\n",
    "        return a\n",
    "    elif a < b:\n",
    "        return gcd(b, a)\n",
    "    else:\n",
    "        return gcd(b, a - b)\n",
    "a = 25\n",
    "b = 45\n",
    "print(gcd(a, b))"
   ]
  },
  {
   "cell_type": "code",
   "execution_count": 34,
   "id": "8236a7ca-935a-4916-98c3-b859351c658d",
   "metadata": {},
   "outputs": [
    {
     "name": "stdin",
     "output_type": "stream",
     "text": [
      "Enter a string:  \"the coding of the messages is the most difficult part\"\n"
     ]
    },
    {
     "name": "stdout",
     "output_type": "stream",
     "text": [
      "Reversed String:  \"trap tluciffid tsom eht si segassem eht fo gnidoc eht\"\n"
     ]
    }
   ],
   "source": [
    "'''7.Write a recursive Python function to reverse a string.'''\n",
    "\n",
    "# code\n",
    "def reverse(string):\n",
    "    if len(string) == 0:\n",
    "        return string\n",
    "    else:\n",
    "        return reverse(string[1:]) + string[0]\n",
    "a = str(input(\"Enter a string: \"))\n",
    "print(\"Reversed String: \", reverse(a))"
   ]
  },
  {
   "cell_type": "code",
   "execution_count": 37,
   "id": "49d489c1-b021-4fb4-9e95-637d82bf0378",
   "metadata": {},
   "outputs": [
    {
     "name": "stdin",
     "output_type": "stream",
     "text": [
      "Enter the number:  4\n",
      "Enter the power:  3\n"
     ]
    },
    {
     "name": "stdout",
     "output_type": "stream",
     "text": [
      "64\n"
     ]
    }
   ],
   "source": [
    "'''8.Create a recursive Python function to calculate the power of a number (x^n).'''\n",
    "\n",
    "# code\n",
    "def power(N, P):\n",
    "    if P == 0:\n",
    "        return 1\n",
    "    return (N*power(N, P-1))\n",
    "if __name__ == '__main__':\n",
    "    N = int(input(\"Enter the number: \"))\n",
    "    P = int(input(\"Enter the power: \"))\n",
    "print(power(N, P))"
   ]
  },
  {
   "cell_type": "code",
   "execution_count": 38,
   "id": "a2fb8f1b-df3f-4a74-8f10-9c1270c20ba5",
   "metadata": {},
   "outputs": [
    {
     "name": "stdout",
     "output_type": "stream",
     "text": [
      "ABC\n",
      "ACB\n",
      "BAC\n",
      "BCA\n",
      "CBA\n",
      "CAB\n"
     ]
    }
   ],
   "source": [
    "'''9.Write a recursive Python function to find all permutations of a given string.'''\n",
    "\n",
    "# code\n",
    "def swap(ch, i, j):\n",
    "    temp = ch[i]\n",
    "    ch[i] = ch[j]\n",
    "    ch[j] = temp\n",
    "def permutations(ch, curr_index=0):\n",
    "    if curr_index == len(ch) - 1:\n",
    "        print(''.join(ch))\n",
    "    for i in range(curr_index, len(ch)):\n",
    "        swap(ch, curr_index, i)\n",
    "        permutations(ch, curr_index + 1)\n",
    "        swap(ch, curr_index, i)\n",
    "if __name__ == '__main__': \n",
    "    s = 'ABC'\n",
    "    permutations(list(s))"
   ]
  },
  {
   "cell_type": "code",
   "execution_count": 43,
   "id": "ef845de6-216f-4b86-82f3-025aff0da383",
   "metadata": {},
   "outputs": [
    {
     "name": "stdin",
     "output_type": "stream",
     "text": [
      "Enter the string:   malayalam\n"
     ]
    },
    {
     "name": "stdout",
     "output_type": "stream",
     "text": [
      "Yes\n"
     ]
    }
   ],
   "source": [
    "'''10.Write a recursive Python function to check if a string is a palindrome.'''\n",
    "\n",
    "# code\n",
    "def isPalRec(st, s, e) :\n",
    "    if (s == e):\n",
    "        return True\n",
    "    if (st[s] != st[e]) :\n",
    "        return False\n",
    "    if (s < e + 1) :\n",
    "        return isPalRec(st, s + 1, e - 1);\n",
    "    return True\n",
    "def isPalindrome(st) :\n",
    "    n = len(st)\n",
    "    if (n == 0) :\n",
    "        return True\n",
    "    return isPalRec(st, 0, n - 1);\n",
    "st = input(\"Enter the string: \")\n",
    "if (isPalindrome(st)) :\n",
    "    print(\"No\")\n",
    "else :\n",
    "    print(\"Yes\")"
   ]
  },
  {
   "cell_type": "code",
   "execution_count": 49,
   "id": "13d2714a-3812-44bf-882c-53786c87d0d7",
   "metadata": {},
   "outputs": [
    {
     "name": "stdout",
     "output_type": "stream",
     "text": [
      "The original list is : [4, 5, 6, 7, 3, 8]\n",
      "The combinations of elements till length N : ['chikooo']\n"
     ]
    }
   ],
   "source": [
    "'''11.Create a recursive Python function to generate all possible combinations of a list of elements.'''\n",
    "\n",
    "# code\n",
    "test_list = [4, 5, 6, 7, 3, 8]\n",
    "print(\"The original list is : \" + str(test_list))\n",
    "def get_combinations(lst, n):\n",
    "    if n == 0:\n",
    "        return [[]]\n",
    "    else:\n",
    "        return  \n",
    "    for i in range(len(lst) - n + 1):\n",
    "        for c in get_combinations(lst[i+1:], n-1):\n",
    "            res = [tuple(c) for i in range(1, 4)\n",
    "                   for c in get_combinations(test_list, i)]\n",
    "print(\"The combinations of elements till length N : \" + str(res))"
   ]
  },
  {
   "cell_type": "code",
   "execution_count": null,
   "id": "5d4d947f-e29e-4bcc-a9dc-e419a6b6dd64",
   "metadata": {},
   "outputs": [],
   "source": []
  },
  {
   "cell_type": "code",
   "execution_count": null,
   "id": "c4218d7a-806a-42ca-b884-1dfa30462f08",
   "metadata": {},
   "outputs": [],
   "source": [
    "# Basics of Functions:"
   ]
  },
  {
   "cell_type": "code",
   "execution_count": null,
   "id": "41ea548b-3f10-45df-bc39-a14f7fd3e5f4",
   "metadata": {},
   "outputs": [],
   "source": [
    "'''1.What is a function in Python, and why is it used?'''\n",
    "\n",
    "# Ans\n",
    "'''\n",
    "1.A function is a block of code which only runs when it is called.\n",
    "2.You can pass data, known as parameters, into a function.\n",
    "3.A function can return data as a result.\n",
    "'''"
   ]
  },
  {
   "cell_type": "code",
   "execution_count": 1,
   "id": "350562ba-2495-4d37-b17f-6ab8918d0d22",
   "metadata": {},
   "outputs": [],
   "source": [
    "'''2.How do you define a function in Python? Provide an example.'''\n",
    "\n",
    "# Ans\n",
    "'''\n",
    "In Python, you define a function with the def keyword, then write the function \n",
    "identifier (name) followed by parentheses and a colon.\n",
    "\n",
    "The next thing you have to do is make sure you indent with a tab or 4 spaces, and then specify \n",
    "what you want the function to do for you.\n",
    "\n",
    "Example:-  def function_Name():\n",
    "'''\n",
    "\n",
    "# code\n",
    "def myfunction():\n",
    "    print(\"Hello World\")"
   ]
  },
  {
   "cell_type": "code",
   "execution_count": 2,
   "id": "c38b1aa1-6afe-41f3-87d0-480a957e9a89",
   "metadata": {},
   "outputs": [
    {
     "name": "stdout",
     "output_type": "stream",
     "text": [
      "Hello World\n"
     ]
    }
   ],
   "source": [
    "myfunction()"
   ]
  },
  {
   "cell_type": "code",
   "execution_count": null,
   "id": "4f430839-0b66-4415-9bed-a6d6964dc08c",
   "metadata": {},
   "outputs": [],
   "source": [
    "'''3.Explain the difference between a function definition and a function call.'''\n",
    "\n",
    "# Ans\n",
    "'''\n",
    "a function is a block of code that performs a specific task,\n",
    "while a function call is an expression that invokes a function and executes the code in the function.\n",
    "'''"
   ]
  },
  {
   "cell_type": "code",
   "execution_count": 3,
   "id": "deb126db-a71e-49b2-8269-45a206eb6289",
   "metadata": {},
   "outputs": [],
   "source": [
    "'''4.Write a Python program that defines a function to calculate the sum of two numbers and then calls the function.'''\n",
    "\n",
    "# code\n",
    "def add_numbers(a,b):\n",
    "    print(a+b)"
   ]
  },
  {
   "cell_type": "code",
   "execution_count": 4,
   "id": "3c7158e2-10b7-4b61-a285-cdc9d608363c",
   "metadata": {},
   "outputs": [
    {
     "name": "stdout",
     "output_type": "stream",
     "text": [
      "156\n"
     ]
    }
   ],
   "source": [
    "add_numbers(67,89)"
   ]
  },
  {
   "cell_type": "code",
   "execution_count": null,
   "id": "5e396bff-ebbb-4d9c-92ee-e84f92e10c94",
   "metadata": {},
   "outputs": [],
   "source": [
    "'''5.What is a function signature, and what information does it typically include?'''\n",
    "\n",
    "# Ans\n",
    "'''\n",
    " function signature defines input and output of functions or methods.\n",
    " \n",
    " A function signature consists of the function prototype.\n",
    "'''"
   ]
  },
  {
   "cell_type": "code",
   "execution_count": 5,
   "id": "073d1966-c42f-4c7f-b520-e1a047bfaee6",
   "metadata": {},
   "outputs": [],
   "source": [
    "'''6.Create a Python function that takes two arguments and returns their product.'''\n",
    "\n",
    "def product(c,d):\n",
    "    print(c*d)"
   ]
  },
  {
   "cell_type": "code",
   "execution_count": 6,
   "id": "0e0d1b88-6856-4913-bb7e-145b2dc72d12",
   "metadata": {},
   "outputs": [
    {
     "name": "stdout",
     "output_type": "stream",
     "text": [
      "4050\n"
     ]
    }
   ],
   "source": [
    "product(45,90)"
   ]
  },
  {
   "cell_type": "code",
   "execution_count": null,
   "id": "fbdaba93-5846-42ac-b622-1270f353aab8",
   "metadata": {},
   "outputs": [],
   "source": []
  },
  {
   "cell_type": "code",
   "execution_count": null,
   "id": "00983544-7d72-486e-b562-235a200d3e66",
   "metadata": {},
   "outputs": [],
   "source": [
    "# Function Parameters and Arguments:"
   ]
  },
  {
   "cell_type": "code",
   "execution_count": null,
   "id": "e0332536-13c4-4ef6-b05c-072f0ee83f44",
   "metadata": {},
   "outputs": [],
   "source": [
    "'''1.Explain the concepts of formal parameters and actual arguments in Python functions.'''\n",
    "\n",
    "# Ans\n",
    "'''\n",
    "Actual Parameters vary from Formal Parameters in that Actual Parameters are values \n",
    "supplied to the function when it is invoked, \n",
    "whereas Formal Parameters are variables declared by the function that get values when the function is called.\n",
    "'''"
   ]
  },
  {
   "cell_type": "code",
   "execution_count": 7,
   "id": "b93723a7-32d5-4fb8-aecc-7d2c60753180",
   "metadata": {},
   "outputs": [
    {
     "name": "stdout",
     "output_type": "stream",
     "text": [
      "1000\n"
     ]
    }
   ],
   "source": [
    "'''2.Write a Python program that defines a function with default argument values.'''\n",
    "\n",
    "# Code\n",
    "def find_cube(integer1=2):\n",
    "    result = integer1 * integer1 * integer1\n",
    "    return result\n",
    "result= find_cube(10)\n",
    "print(result)"
   ]
  },
  {
   "cell_type": "code",
   "execution_count": 8,
   "id": "6200a506-a387-4a00-9523-c1035296d315",
   "metadata": {},
   "outputs": [],
   "source": [
    "'''3.How do you use keyword arguments in Python function calls? Provide an example.'''\n",
    "\n",
    "# Ans\n",
    "'''\n",
    "Keyword arguments (or named arguments) are values that, when passed into a function,\n",
    "are identifiable by specific parameter names. A keyword argument is preceded by a parameter and the assignment operator, = . \n",
    "Keyword arguments can be likened to dictionaries in that they map a value to a keyword\n",
    "'''\n",
    "\n",
    "# Code\n",
    "def display_info(first_name, last_name):\n",
    "    print('First Name:', first_name)\n",
    "    print('Last Name:', last_name)"
   ]
  },
  {
   "cell_type": "code",
   "execution_count": 9,
   "id": "5978b18b-ce5e-49e8-8112-5f36dbe7ba26",
   "metadata": {},
   "outputs": [
    {
     "name": "stdout",
     "output_type": "stream",
     "text": [
      "First Name: Samartha\n",
      "Last Name: Gaikwad\n"
     ]
    }
   ],
   "source": [
    "display_info('Samartha' , 'Gaikwad')"
   ]
  },
  {
   "cell_type": "code",
   "execution_count": 10,
   "id": "2b99367e-caa1-472e-8b35-169115fc4ee3",
   "metadata": {},
   "outputs": [],
   "source": [
    "'''4.Create a Python function that accepts a variable number of arguments and calculates their sum.'''\n",
    "\n",
    "# Code\n",
    "def sum_all(*args): \n",
    "    t=() \n",
    "    s=0 \n",
    "    for i in args: \n",
    "        s=s+i \n",
    "    print(s) "
   ]
  },
  {
   "cell_type": "code",
   "execution_count": 11,
   "id": "eb3e39dd-7d9f-4c3e-b32f-95a0e3310751",
   "metadata": {},
   "outputs": [
    {
     "name": "stdout",
     "output_type": "stream",
     "text": [
      "235\n"
     ]
    }
   ],
   "source": [
    "sum_all(34,45,67,89)"
   ]
  },
  {
   "cell_type": "code",
   "execution_count": 12,
   "id": "093f690d-14b5-492b-87f3-f0cf61137a33",
   "metadata": {},
   "outputs": [],
   "source": [
    "'''5.What is the purpose of the `*args` and `**kwargs` syntax in function parameter lists?'''\n",
    "\n",
    "# Ans\n",
    "'''\n",
    "1. *args (Non Keyword Arguments)\n",
    " Python has *args which allow us to pass the variable number of non keyword arguments to function.\n",
    " \n",
    "In the function, we should use an asterisk * before the parameter name to pass variable length arguments\n",
    "\n",
    "The arguments are passed as a tuple and these passed arguments make tuple inside the function with same \n",
    "name as the parameter excluding asterisk *.\n",
    "\n",
    "2.**kwargs (Keyword Arguments)\n",
    "**kwargs, it allows us to pass the variable length of keyword arguments to the function.\n",
    "\n",
    "In the function, we use the double asterisk ** before the parameter name to denote this type of argument\n",
    "\n",
    "In the function, we use the double asterisk ** before the parameter name to denote this type of argument\n",
    "'''\n",
    "\n",
    "\n",
    "# Code for *args\n",
    "def adder(*num):\n",
    "    sum = 0\n",
    "    for n in num:\n",
    "        sum = sum + n\n",
    "    print(\"Sum:\",sum)\n",
    "    \n",
    "    \n",
    "    \n",
    "    \n",
    "# code for **kwargs\n",
    "def intro(**data):\n",
    "    print(\"\\nData type of argument:\",type(data))\n",
    "    for key, value in data.items():\n",
    "        print(\"{} is {}\".format(key,value))"
   ]
  },
  {
   "cell_type": "code",
   "execution_count": 13,
   "id": "90c6beff-b9db-444b-9c9d-73da9ccfc78c",
   "metadata": {},
   "outputs": [
    {
     "name": "stdout",
     "output_type": "stream",
     "text": [
      "Sum: 247\n"
     ]
    }
   ],
   "source": [
    "# otput of *args\n",
    "adder(7,8,9,10,34,56,78,45)"
   ]
  },
  {
   "cell_type": "code",
   "execution_count": 14,
   "id": "eb257f3b-8d72-48d6-82c1-9f99c9278aca",
   "metadata": {},
   "outputs": [
    {
     "name": "stdout",
     "output_type": "stream",
     "text": [
      "\n",
      "Data type of argument: <class 'dict'>\n",
      "Firstname is Sita\n",
      "Lastname is Sharma\n",
      "Age is 22\n",
      "Phone is 1234567890\n"
     ]
    }
   ],
   "source": [
    "# output of **kwargs\n",
    "intro(Firstname=\"Sita\", Lastname=\"Sharma\", Age=22, Phone=1234567890)"
   ]
  },
  {
   "cell_type": "code",
   "execution_count": null,
   "id": "4e06ba6b-00f5-4207-81b5-a08065115a05",
   "metadata": {},
   "outputs": [],
   "source": []
  },
  {
   "cell_type": "code",
   "execution_count": null,
   "id": "93e32611-6687-41e0-b826-64dd638ab568",
   "metadata": {},
   "outputs": [],
   "source": [
    "# Return Values and Scoping:"
   ]
  },
  {
   "cell_type": "code",
   "execution_count": 17,
   "id": "5ffc17b8-8c3c-4a53-9e01-0493a34acce6",
   "metadata": {},
   "outputs": [],
   "source": [
    "'''1.Describe the role of the `return` statement in Python functions and provide examples.'''\n",
    "\n",
    "# Ans\n",
    "'''\n",
    "A return statement is used to end the execution of the function call and “returns” the result to the caller. \n",
    "The statements after the return statements are not executed. \n",
    "If the return statement is without any expression, then the special value None is returned.\n",
    "'''\n",
    "\n",
    "# code\n",
    "def cube(x):\n",
    "    r=x**3\n",
    "    return r"
   ]
  },
  {
   "cell_type": "code",
   "execution_count": 18,
   "id": "d5df2b1c-8490-45fb-86fc-3588dfa27c4b",
   "metadata": {},
   "outputs": [
    {
     "data": {
      "text/plain": [
       "300763"
      ]
     },
     "execution_count": 18,
     "metadata": {},
     "output_type": "execute_result"
    }
   ],
   "source": [
    "cube(67)"
   ]
  },
  {
   "cell_type": "code",
   "execution_count": 30,
   "id": "178d8a8c-4477-4bcb-a9fe-b9b023b61f48",
   "metadata": {},
   "outputs": [],
   "source": [
    "'''2.Explain the concept of variable scope in Python, including local and global variables.'''\n",
    "\n",
    "# Ans\n",
    "'''\n",
    "Python Global variables are those which are not defined inside any function and have a global scope.\n",
    "\n",
    "Python local variables are those which are defined inside a function and their scope is limited to that function only.\n",
    "'''\n",
    "\n",
    "# code local variable\n",
    "def f1():\n",
    "    s = \"I love Coding\"\n",
    "    print(s)\n",
    "    \n",
    "    \n",
    "    \n",
    "# code for global variable\n",
    "def f2():\n",
    "    print(\"Inside Function: \", s)\n",
    "s = \"I love Coding\""
   ]
  },
  {
   "cell_type": "code",
   "execution_count": 27,
   "id": "f4dce108-db19-4764-af49-0110957c9ec6",
   "metadata": {},
   "outputs": [
    {
     "name": "stdout",
     "output_type": "stream",
     "text": [
      "I love Coding\n"
     ]
    }
   ],
   "source": [
    "# output of local varivle\n",
    "f1()"
   ]
  },
  {
   "cell_type": "code",
   "execution_count": 31,
   "id": "882f7e5f-0f7a-4749-ae6c-acb4a9d80cc3",
   "metadata": {},
   "outputs": [
    {
     "name": "stdout",
     "output_type": "stream",
     "text": [
      "Inside Function:  I love Coding\n"
     ]
    }
   ],
   "source": [
    "# output of global variable\n",
    "f2()"
   ]
  },
  {
   "cell_type": "code",
   "execution_count": 32,
   "id": "3bf724ce-92c8-4ce6-bcd0-235dbad1b325",
   "metadata": {},
   "outputs": [],
   "source": [
    "'''3.Write a Python program that demonstrates the use of global variables within functions.'''\n",
    "\n",
    "# code\n",
    "x = \"awesome\"\n",
    "def myfunc():\n",
    "    print(\"Python is \" + x)"
   ]
  },
  {
   "cell_type": "code",
   "execution_count": 33,
   "id": "13b01d36-bdb4-4f21-894e-df4cf160cf30",
   "metadata": {},
   "outputs": [
    {
     "name": "stdout",
     "output_type": "stream",
     "text": [
      "Python is awesome\n"
     ]
    }
   ],
   "source": [
    "myfunc()"
   ]
  },
  {
   "cell_type": "code",
   "execution_count": 35,
   "id": "5203e241-7bba-4b39-a597-a2aacb4e28e0",
   "metadata": {},
   "outputs": [
    {
     "name": "stdout",
     "output_type": "stream",
     "text": [
      "Factorial of 5 is\n"
     ]
    },
    {
     "data": {
      "text/plain": [
       "120"
      ]
     },
     "execution_count": 35,
     "metadata": {},
     "output_type": "execute_result"
    }
   ],
   "source": [
    "'''4.Create a Python function that calculates the factorial of a number and returns it'''\n",
    "\n",
    "# code\n",
    "def fact(n):  \n",
    "    return 1 if (n==1 or n==0) else n * fact(n - 1);  \n",
    "  \n",
    "num = 5  \n",
    "print(\"Factorial of\",num,\"is\",)  \n",
    "fact(num)"
   ]
  },
  {
   "cell_type": "code",
   "execution_count": 36,
   "id": "d9d3270c-d0f3-4b06-afcd-a7a1c032f4a1",
   "metadata": {},
   "outputs": [],
   "source": [
    "'''5.How can you access variables defined outside a function from within the function?'''\n",
    "\n",
    "# Ans\n",
    "'''\n",
    "You can access such variables inside and outside of a function, as they have global scope. \n",
    "The variable x in the code above was declared outside a function: x = 10 . Using the showX() function, \n",
    "we were still able to access x because it was declared in a global scope\n",
    "'''\n",
    "\n",
    "# Code\n",
    "x = 10 \n",
    "def showX():\n",
    "    print(\"The value of x is\", x)"
   ]
  },
  {
   "cell_type": "code",
   "execution_count": 38,
   "id": "9961a874-8799-4f1d-af55-c9fd4669ffda",
   "metadata": {},
   "outputs": [
    {
     "name": "stdout",
     "output_type": "stream",
     "text": [
      "The value of x is 10\n"
     ]
    }
   ],
   "source": [
    "showX()"
   ]
  },
  {
   "cell_type": "code",
   "execution_count": null,
   "id": "f14822a2-83a0-4fcf-af31-827f26884b6e",
   "metadata": {},
   "outputs": [],
   "source": []
  },
  {
   "cell_type": "code",
   "execution_count": null,
   "id": "a491e489-1b6b-4bb5-ad6d-07adae43cfbe",
   "metadata": {},
   "outputs": [],
   "source": [
    "# Lambda Functions and Higher-Order Functions:"
   ]
  },
  {
   "cell_type": "code",
   "execution_count": 39,
   "id": "33fe37d5-1802-4f91-8c3f-d78a74513c59",
   "metadata": {},
   "outputs": [
    {
     "name": "stdout",
     "output_type": "stream",
     "text": [
      "A CODING REGION IN HUMAN DNA\"\n"
     ]
    }
   ],
   "source": [
    "'''1.What are lambda functions in Python, and when are they typically used?'''\n",
    "\n",
    "# Ans\n",
    "'''\n",
    "Python Lambda Functions are anonymous function means that the function is without a name. \n",
    "As we already know that the def keyword is used to define a normal function in Python. \n",
    "Similarly, the lambda keyword is used to define an anonymous function in Python. \n",
    "'''\n",
    "\n",
    "# Code\n",
    "str1 = 'a coding region in human DNA\"'\n",
    "upper = lambda string: string.upper()\n",
    "print(upper(str1))"
   ]
  },
  {
   "cell_type": "code",
   "execution_count": 40,
   "id": "4d745d81-502e-419b-8296-6b837eabd6f3",
   "metadata": {},
   "outputs": [
    {
     "name": "stdout",
     "output_type": "stream",
     "text": [
      "[(2200, 'Hadoop'), (2500, 'Spark'), (3000, 'Python')]\n"
     ]
    }
   ],
   "source": [
    "'''2.Write a Python program that uses lambda functions to sort a list of tuples based on the second element.'''\n",
    "\n",
    "# code\n",
    "tuples = [(2500, 'Spark'), (2200, 'Hadoop'), (3000, 'Python')]\n",
    "sorted_list = sorted(tuples, key=lambda x: (x[0], x[1]))\n",
    "print(sorted_list)"
   ]
  },
  {
   "cell_type": "code",
   "execution_count": 41,
   "id": "393db934-42e6-4747-adf8-b87fcbb9eb95",
   "metadata": {},
   "outputs": [
    {
     "name": "stdout",
     "output_type": "stream",
     "text": [
      "<map object at 0x7f2cb4473be0>\n",
      "[1, 4, 9, 16, 25]\n"
     ]
    }
   ],
   "source": [
    "'''3.Explain the concept of higher-order functions in Python, and provide an example.'''\n",
    "\n",
    "# Ans\n",
    "'''\n",
    "Higher-order functions are functions that take a function as a parameter and/or return a function as an output.\n",
    "'''\n",
    "\n",
    "# code\n",
    "num=[1,2,3,4,5]\n",
    "square=map(lambda x: x**2 , num)\n",
    "print (square)\n",
    "print (list(square))"
   ]
  },
  {
   "cell_type": "code",
   "execution_count": 42,
   "id": "6f11a51b-8413-4a9f-8391-d91a3755d7e0",
   "metadata": {},
   "outputs": [
    {
     "name": "stdout",
     "output_type": "stream",
     "text": [
      "[2, 4, 6]\n"
     ]
    }
   ],
   "source": [
    "'''4.Create a Python function that takes a list of numbers and a function as arguments, \n",
    "applying the function to each element in the list.'''\n",
    "\n",
    "# code\n",
    "def double(integer):\n",
    "    return integer*2\n",
    "integer_list = [1, 2, 3]\n",
    "output_list = [double(i) for i in integer_list]\n",
    "print(output_list)"
   ]
  },
  {
   "cell_type": "code",
   "execution_count": null,
   "id": "a9b2e0ec-58d7-43ef-9bbe-4dcccd7fc632",
   "metadata": {},
   "outputs": [],
   "source": []
  },
  {
   "cell_type": "code",
   "execution_count": null,
   "id": "179549ed-d0cc-4567-a529-538b89f7b8ce",
   "metadata": {},
   "outputs": [],
   "source": [
    "# Built-in Functions:"
   ]
  },
  {
   "cell_type": "code",
   "execution_count": null,
   "id": "89992deb-cd1b-4adf-a0f3-1e64f55d59fd",
   "metadata": {},
   "outputs": [],
   "source": [
    "'''1.Describe the role of built-in functions like `len()`, `max()`, and `min()` in Python'''\n",
    "\n",
    "# Ans\n",
    "'''\n",
    "len()-  The len() returns the length of an object\n",
    "\n",
    "max() - The max() return the largest elements in any iterable.\n",
    "\n",
    "min() - The min() return the smallest elements in any iterable.\n",
    "'''"
   ]
  },
  {
   "cell_type": "code",
   "execution_count": 43,
   "id": "b2d94555-2aa6-46d2-a352-72b7ed74cbd3",
   "metadata": {},
   "outputs": [
    {
     "name": "stdout",
     "output_type": "stream",
     "text": [
      "[2, 4, 6, 8]\n"
     ]
    }
   ],
   "source": [
    "'''2.Write a Python program that uses the `map()` function to apply a function to each element of a list.'''\n",
    "\n",
    "# code\n",
    "def addition(n):\n",
    "    return n + n\n",
    "numbers = (1, 2, 3, 4)\n",
    "result = map(addition, numbers)\n",
    "print(list(result))"
   ]
  },
  {
   "cell_type": "code",
   "execution_count": 48,
   "id": "b6f861bd-2800-4ef0-8a31-415e801dba97",
   "metadata": {},
   "outputs": [],
   "source": [
    "'''3.How does the `filter()` function work in Python, and when would you use it?'''\n",
    "\n",
    "# Ans\n",
    "'''\n",
    "Python's filter() is a built-in function that allows you to process an iterable\n",
    "and extract those items that satisfy a given condition. \n",
    "This process is commonly known as a filtering operation.\n",
    "'''\n",
    "\n",
    "\n",
    "# Code\n",
    "numbers = [-2, -1, 0, 1, 2]\n",
    "def extract_positive():\n",
    "    positive_numbers = []\n",
    "    for number in numbers:\n",
    "        if number > 0:\n",
    "            positive_numbers.append(number)\n",
    "            return positive_numbers"
   ]
  },
  {
   "cell_type": "code",
   "execution_count": 49,
   "id": "0c06b463-5710-442d-9c55-281f1dbcd95b",
   "metadata": {},
   "outputs": [
    {
     "data": {
      "text/plain": [
       "[1]"
      ]
     },
     "execution_count": 49,
     "metadata": {},
     "output_type": "execute_result"
    }
   ],
   "source": [
    "extract_positive()"
   ]
  },
  {
   "cell_type": "code",
   "execution_count": 51,
   "id": "542cd767-5d3e-4ff4-aaff-50e9cf03cfc7",
   "metadata": {},
   "outputs": [
    {
     "name": "stdout",
     "output_type": "stream",
     "text": [
      "The product of list elements is : 180\n"
     ]
    }
   ],
   "source": [
    "'''4.Create a Python program that uses the `reduce()` function to find the product of all elements in a list.'''\n",
    "\n",
    "\n",
    "# code\n",
    "import functools\n",
    "import operator\n",
    "lis = [1, 3, 5, 6, 2]\n",
    "print(\"The product of list elements is : \", end=\"\")\n",
    "print(functools.reduce(operator.mul, lis)) "
   ]
  },
  {
   "cell_type": "code",
   "execution_count": null,
   "id": "0ab86215-3319-426b-9364-32692f652a33",
   "metadata": {},
   "outputs": [],
   "source": []
  },
  {
   "cell_type": "code",
   "execution_count": null,
   "id": "2abd078e-f5c0-4987-89eb-47b035a5dcda",
   "metadata": {},
   "outputs": [],
   "source": [
    "# Function Documentation and Best Practices:"
   ]
  },
  {
   "cell_type": "code",
   "execution_count": null,
   "id": "47d268c0-41f8-4562-8799-5701f722ebe0",
   "metadata": {},
   "outputs": [],
   "source": [
    "'''1.Explain the purpose of docstrings in Python functions and how to write them.'''\n",
    "\n",
    "# Ans\n",
    "'''\n",
    "Python documentation strings (or docstrings) provide a convenient way of associating documentation with Python modules, \n",
    "functions, classes, and methods. It’s specified in source code that is used,\n",
    "like a comment, to document a specific segment of code.\n",
    "\n",
    "\n",
    "\n",
    "Declaring Docstrings: The docstrings are declared using ”’triple single quotes”’ or “”” triple double \n",
    "                      quotes “”” just below the class, method, or function declaration. All functions should have a docstring.\n",
    "Accessing Docstrings: The docstrings can be accessed using the __doc__ method of the object or using the help function. \n",
    "'''"
   ]
  },
  {
   "cell_type": "code",
   "execution_count": null,
   "id": "c680d2a7-d5e0-4e37-ba6a-678d71866a06",
   "metadata": {},
   "outputs": [],
   "source": [
    "'''2.Describe some best practices for naming functions and variables in Python, including naming conventions and guidelines.'''\n",
    "\n",
    "# Ans\n",
    "'''\n",
    "1. Use descriptive and meaningful names\n",
    "Variable names should be descriptive and meaningful. They should describe what the variable represents or contains. \n",
    "Example, if you are writing a program that calculates the area of a circle, you might name your variable \"radius\" or \"area\". \n",
    "Avoid using generic or meaningless names such as \"x\" or \"temp\".\n",
    "\n",
    "2. Follow a consistent naming convention\n",
    "It's important to follow a consistent naming convention to make your code more readable and understandable. \n",
    "There are several naming conventions that you can follow, but the most common ones are:\n",
    "--->CamelCase: This convention capitalizes the first letter of each word except for the first word. For example, \n",
    "\"firstName\" or \"lastName\".\n",
    "--->snake_case: This convention uses underscores to separate words. For example, \"first_name\" or \"last_name\".\n",
    "\n",
    "Choose a naming convention and stick to it throughout your code.\n",
    "\n",
    "\n",
    "3. Avoid reserved keywords\n",
    "Avoid using reserved keywords as variable names. Python has several reserved keywords thathave special meanings \n",
    "in the language. Using reserved keywords as variable names can cause syntax errors and make your code hard to read. \n",
    "Some examples of reserved keywords are \"if\", \"while\", \"for\", and \"print\".\n",
    "\n",
    "\n",
    "4. Don't use abbreviations\n",
    "Avoid using abbreviations in your variable names. Abbreviations can be confusing and may not be understandable to \n",
    "other developers. Instead, use full and descriptive names.\n",
    "\n",
    "\n",
    "5. Be mindful of variable scope\n",
    "Be mindful of the scope of your variables. Variables should be defined in \n",
    "the smallest possible scope to avoid naming conflicts and improve readability. For example, \n",
    "if you have a function that uses a variable, define that variable inside the function instead of at the global level.\n",
    "\n",
    "'''"
   ]
  }
 ],
 "metadata": {
  "kernelspec": {
   "display_name": "Python 3 (ipykernel)",
   "language": "python",
   "name": "python3"
  },
  "language_info": {
   "codemirror_mode": {
    "name": "ipython",
    "version": 3
   },
   "file_extension": ".py",
   "mimetype": "text/x-python",
   "name": "python",
   "nbconvert_exporter": "python",
   "pygments_lexer": "ipython3",
   "version": "3.10.8"
  }
 },
 "nbformat": 4,
 "nbformat_minor": 5
}
